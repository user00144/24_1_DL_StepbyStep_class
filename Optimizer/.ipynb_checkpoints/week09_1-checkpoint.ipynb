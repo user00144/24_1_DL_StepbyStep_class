{
 "cells": [
  {
   "cell_type": "code",
   "execution_count": 2,
   "id": "daea5e11-6b95-489e-8f48-303bb8db6cdd",
   "metadata": {
    "execution": {
     "iopub.execute_input": "2024-04-29T02:23:55.600493Z",
     "iopub.status.busy": "2024-04-29T02:23:55.599738Z",
     "iopub.status.idle": "2024-04-29T02:23:55.826207Z",
     "shell.execute_reply": "2024-04-29T02:23:55.824725Z",
     "shell.execute_reply.started": "2024-04-29T02:23:55.600447Z"
    }
   },
   "outputs": [
    {
     "name": "stdout",
     "output_type": "stream",
     "text": [
      "[[-0.01935835]\n",
      " [ 0.99959231]\n",
      " [ 0.99959638]\n",
      " [ 0.0104305 ]]\n"
     ]
    }
   ],
   "source": [
    "import numpy as np\n",
    "epochs = 20000                                  \n",
    "input_dim, hidden_dim, output_dim = 2, 3, 1\n",
    "\n",
    "L = 0.1                                          \n",
    "\n",
    "X = np.array([[0,0], [0,1], [1,0], [1,1]])\n",
    "Yt = np.array([ [0],   [1],   [1],   [0]])\n",
    "def sigmoid (x): return 1/(1 + np.exp(-x))      \n",
    "def sigmoid_(x): return x * (1 - x)             \n",
    "\n",
    "Wh= np.random.uniform(size=(input_dim, hidden_dim)) # weight hidden (2,3)\n",
    "Wo = np.random.uniform(size=(hidden_dim, output_dim)) # weight output (3,1)\n",
    "\n",
    "for i in range(epochs):\n",
    "    Z = sigmoid(np.dot(X, Wh))          \n",
    "    Yp = np.dot(Z, Wo)                       \n",
    "    E = Yp- Yt #get E0\n",
    "    \n",
    "    Z_error = E.dot(Wo.T) * sigmoid_(Z) # E0 * weight(output layer) * sigmoid_(Z) -> hidden layer error\n",
    "    # L = learning rate -> << step = L * Input * Error >>\n",
    "    Wo -=  L*Z.T.dot(E) # update output layer\n",
    "    Wh-=  L*X.T.dot(Z_error)  # update hidden layer\n",
    "\n",
    "              \n",
    "print(Yp)"
   ]
  }
 ],
 "metadata": {
  "kernelspec": {
   "display_name": "Python 3 (ipykernel)",
   "language": "python",
   "name": "python3"
  },
  "language_info": {
   "codemirror_mode": {
    "name": "ipython",
    "version": 3
   },
   "file_extension": ".py",
   "mimetype": "text/x-python",
   "name": "python",
   "nbconvert_exporter": "python",
   "pygments_lexer": "ipython3",
   "version": "3.10.12"
  }
 },
 "nbformat": 4,
 "nbformat_minor": 5
}
