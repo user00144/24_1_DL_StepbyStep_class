{
 "cells": [
  {
   "cell_type": "code",
   "execution_count": 1,
   "id": "dce20bcf-d7f4-4eba-b3b6-bc89643aba6e",
   "metadata": {
    "execution": {
     "iopub.execute_input": "2024-05-13T01:14:15.011733Z",
     "iopub.status.busy": "2024-05-13T01:14:15.011502Z",
     "iopub.status.idle": "2024-05-13T01:14:15.230246Z",
     "shell.execute_reply": "2024-05-13T01:14:15.229851Z",
     "shell.execute_reply.started": "2024-05-13T01:14:15.011719Z"
    }
   },
   "outputs": [
    {
     "data": {
      "text/html": [
       "<div>\n",
       "<style scoped>\n",
       "    .dataframe tbody tr th:only-of-type {\n",
       "        vertical-align: middle;\n",
       "    }\n",
       "\n",
       "    .dataframe tbody tr th {\n",
       "        vertical-align: top;\n",
       "    }\n",
       "\n",
       "    .dataframe thead th {\n",
       "        text-align: right;\n",
       "    }\n",
       "</style>\n",
       "<table border=\"1\" class=\"dataframe\">\n",
       "  <thead>\n",
       "    <tr style=\"text-align: right;\">\n",
       "      <th></th>\n",
       "      <th>Self_Study_Daily</th>\n",
       "      <th>Tution_Monthly</th>\n",
       "      <th>Pass_Or_Fail</th>\n",
       "    </tr>\n",
       "  </thead>\n",
       "  <tbody>\n",
       "    <tr>\n",
       "      <th>0</th>\n",
       "      <td>7</td>\n",
       "      <td>27</td>\n",
       "      <td>1</td>\n",
       "    </tr>\n",
       "    <tr>\n",
       "      <th>1</th>\n",
       "      <td>2</td>\n",
       "      <td>43</td>\n",
       "      <td>0</td>\n",
       "    </tr>\n",
       "    <tr>\n",
       "      <th>2</th>\n",
       "      <td>7</td>\n",
       "      <td>26</td>\n",
       "      <td>1</td>\n",
       "    </tr>\n",
       "    <tr>\n",
       "      <th>3</th>\n",
       "      <td>8</td>\n",
       "      <td>29</td>\n",
       "      <td>1</td>\n",
       "    </tr>\n",
       "    <tr>\n",
       "      <th>4</th>\n",
       "      <td>3</td>\n",
       "      <td>42</td>\n",
       "      <td>0</td>\n",
       "    </tr>\n",
       "  </tbody>\n",
       "</table>\n",
       "</div>"
      ],
      "text/plain": [
       "   Self_Study_Daily  Tution_Monthly  Pass_Or_Fail\n",
       "0                 7              27             1\n",
       "1                 2              43             0\n",
       "2                 7              26             1\n",
       "3                 8              29             1\n",
       "4                 3              42             0"
      ]
     },
     "execution_count": 1,
     "metadata": {},
     "output_type": "execute_result"
    }
   ],
   "source": [
    "import pandas as pd\n",
    "import numpy as np\n",
    "\n",
    "df = pd.read_csv('Student-Pass-Fail-Data.csv')\n",
    "df.head()"
   ]
  },
  {
   "cell_type": "code",
   "execution_count": 2,
   "id": "7e2bb6f9-dd32-4034-8f8c-c3c4689ca998",
   "metadata": {
    "execution": {
     "iopub.execute_input": "2024-05-13T01:14:15.230704Z",
     "iopub.status.busy": "2024-05-13T01:14:15.230617Z",
     "iopub.status.idle": "2024-05-13T01:14:16.316082Z",
     "shell.execute_reply": "2024-05-13T01:14:16.315553Z",
     "shell.execute_reply.started": "2024-05-13T01:14:15.230696Z"
    }
   },
   "outputs": [
    {
     "name": "stderr",
     "output_type": "stream",
     "text": [
      "2024-05-13 01:14:15.547560: I tensorflow/core/util/port.cc:113] oneDNN custom operations are on. You may see slightly different numerical results due to floating-point round-off errors from different computation orders. To turn them off, set the environment variable `TF_ENABLE_ONEDNN_OPTS=0`.\n",
      "2024-05-13 01:14:15.573267: I tensorflow/core/platform/cpu_feature_guard.cc:210] This TensorFlow binary is optimized to use available CPU instructions in performance-critical operations.\n",
      "To enable the following instructions: AVX2 AVX_VNNI FMA, in other operations, rebuild TensorFlow with the appropriate compiler flags.\n",
      "2024-05-13 01:14:16.036473: W tensorflow/compiler/tf2tensorrt/utils/py_utils.cc:38] TF-TRT Warning: Could not find TensorRT\n"
     ]
    },
    {
     "name": "stdout",
     "output_type": "stream",
     "text": [
      "(800, 2) (800, 2)\n",
      "(200, 2) (200, 2)\n"
     ]
    }
   ],
   "source": [
    "from sklearn.preprocessing import MinMaxScaler\n",
    "from sklearn.model_selection import train_test_split\n",
    "import tensorflow as tf\n",
    "from tensorflow import keras\n",
    "\n",
    "scaler = MinMaxScaler()\n",
    "X = df.drop('Pass_Or_Fail', axis = 1)\n",
    "Y = tf.keras.utils.to_categorical(df.Pass_Or_Fail.to_numpy())\n",
    "\n",
    "X_train, X_test, Y_train, Y_test = train_test_split(X, Y, test_size=0.2, random_state=4)\n",
    "print(X_train.shape, Y_train.shape)\n",
    "print(X_test.shape, Y_test.shape)"
   ]
  },
  {
   "cell_type": "code",
   "execution_count": 3,
   "id": "eb6d2e4a-75c8-4555-9cca-5fa8d011e2b2",
   "metadata": {
    "execution": {
     "iopub.execute_input": "2024-05-13T01:14:16.316632Z",
     "iopub.status.busy": "2024-05-13T01:14:16.316466Z",
     "iopub.status.idle": "2024-05-13T01:14:16.320113Z",
     "shell.execute_reply": "2024-05-13T01:14:16.319748Z",
     "shell.execute_reply.started": "2024-05-13T01:14:16.316623Z"
    }
   },
   "outputs": [],
   "source": [
    "X_train = scaler.fit_transform(X_train)\n",
    "X_test = scaler.transform(X_test)"
   ]
  },
  {
   "cell_type": "code",
   "execution_count": 4,
   "id": "a346944f-0484-489c-baa3-4caed862b649",
   "metadata": {
    "execution": {
     "iopub.execute_input": "2024-05-13T01:14:16.320680Z",
     "iopub.status.busy": "2024-05-13T01:14:16.320560Z",
     "iopub.status.idle": "2024-05-13T01:14:16.422492Z",
     "shell.execute_reply": "2024-05-13T01:14:16.421762Z",
     "shell.execute_reply.started": "2024-05-13T01:14:16.320672Z"
    }
   },
   "outputs": [
    {
     "name": "stderr",
     "output_type": "stream",
     "text": [
      "2024-05-13 01:14:16.348561: I external/local_xla/xla/stream_executor/cuda/cuda_executor.cc:998] successful NUMA node read from SysFS had negative value (-1), but there must be at least one NUMA node, so returning NUMA node zero. See more at https://github.com/torvalds/linux/blob/v6.0/Documentation/ABI/testing/sysfs-bus-pci#L344-L355\n",
      "2024-05-13 01:14:16.378223: W tensorflow/core/common_runtime/gpu/gpu_device.cc:2251] Cannot dlopen some GPU libraries. Please make sure the missing libraries mentioned above are installed properly if you would like to use GPU. Follow the guide at https://www.tensorflow.org/install/gpu for how to download and setup the required libraries for your platform.\n",
      "Skipping registering GPU devices...\n"
     ]
    },
    {
     "data": {
      "text/html": [
       "<pre style=\"white-space:pre;overflow-x:auto;line-height:normal;font-family:Menlo,'DejaVu Sans Mono',consolas,'Courier New',monospace\"><span style=\"font-weight: bold\">Model: \"functional_1\"</span>\n",
       "</pre>\n"
      ],
      "text/plain": [
       "\u001b[1mModel: \"functional_1\"\u001b[0m\n"
      ]
     },
     "metadata": {},
     "output_type": "display_data"
    },
    {
     "data": {
      "text/html": [
       "<pre style=\"white-space:pre;overflow-x:auto;line-height:normal;font-family:Menlo,'DejaVu Sans Mono',consolas,'Courier New',monospace\">┏━━━━━━━━━━━━━━━━━━━━━━━━━━━━━━━━━┳━━━━━━━━━━━━━━━━━━━━━━━━┳━━━━━━━━━━━━━━━┓\n",
       "┃<span style=\"font-weight: bold\"> Layer (type)                    </span>┃<span style=\"font-weight: bold\"> Output Shape           </span>┃<span style=\"font-weight: bold\">       Param # </span>┃\n",
       "┡━━━━━━━━━━━━━━━━━━━━━━━━━━━━━━━━━╇━━━━━━━━━━━━━━━━━━━━━━━━╇━━━━━━━━━━━━━━━┩\n",
       "│ input_layer (<span style=\"color: #0087ff; text-decoration-color: #0087ff\">InputLayer</span>)        │ (<span style=\"color: #00d7ff; text-decoration-color: #00d7ff\">None</span>, <span style=\"color: #00af00; text-decoration-color: #00af00\">2</span>)              │             <span style=\"color: #00af00; text-decoration-color: #00af00\">0</span> │\n",
       "├─────────────────────────────────┼────────────────────────┼───────────────┤\n",
       "│ dense (<span style=\"color: #0087ff; text-decoration-color: #0087ff\">Dense</span>)                   │ (<span style=\"color: #00d7ff; text-decoration-color: #00d7ff\">None</span>, <span style=\"color: #00af00; text-decoration-color: #00af00\">4</span>)              │            <span style=\"color: #00af00; text-decoration-color: #00af00\">12</span> │\n",
       "├─────────────────────────────────┼────────────────────────┼───────────────┤\n",
       "│ dense_1 (<span style=\"color: #0087ff; text-decoration-color: #0087ff\">Dense</span>)                 │ (<span style=\"color: #00d7ff; text-decoration-color: #00d7ff\">None</span>, <span style=\"color: #00af00; text-decoration-color: #00af00\">2</span>)              │            <span style=\"color: #00af00; text-decoration-color: #00af00\">10</span> │\n",
       "└─────────────────────────────────┴────────────────────────┴───────────────┘\n",
       "</pre>\n"
      ],
      "text/plain": [
       "┏━━━━━━━━━━━━━━━━━━━━━━━━━━━━━━━━━┳━━━━━━━━━━━━━━━━━━━━━━━━┳━━━━━━━━━━━━━━━┓\n",
       "┃\u001b[1m \u001b[0m\u001b[1mLayer (type)                   \u001b[0m\u001b[1m \u001b[0m┃\u001b[1m \u001b[0m\u001b[1mOutput Shape          \u001b[0m\u001b[1m \u001b[0m┃\u001b[1m \u001b[0m\u001b[1m      Param #\u001b[0m\u001b[1m \u001b[0m┃\n",
       "┡━━━━━━━━━━━━━━━━━━━━━━━━━━━━━━━━━╇━━━━━━━━━━━━━━━━━━━━━━━━╇━━━━━━━━━━━━━━━┩\n",
       "│ input_layer (\u001b[38;5;33mInputLayer\u001b[0m)        │ (\u001b[38;5;45mNone\u001b[0m, \u001b[38;5;34m2\u001b[0m)              │             \u001b[38;5;34m0\u001b[0m │\n",
       "├─────────────────────────────────┼────────────────────────┼───────────────┤\n",
       "│ dense (\u001b[38;5;33mDense\u001b[0m)                   │ (\u001b[38;5;45mNone\u001b[0m, \u001b[38;5;34m4\u001b[0m)              │            \u001b[38;5;34m12\u001b[0m │\n",
       "├─────────────────────────────────┼────────────────────────┼───────────────┤\n",
       "│ dense_1 (\u001b[38;5;33mDense\u001b[0m)                 │ (\u001b[38;5;45mNone\u001b[0m, \u001b[38;5;34m2\u001b[0m)              │            \u001b[38;5;34m10\u001b[0m │\n",
       "└─────────────────────────────────┴────────────────────────┴───────────────┘\n"
      ]
     },
     "metadata": {},
     "output_type": "display_data"
    },
    {
     "data": {
      "text/html": [
       "<pre style=\"white-space:pre;overflow-x:auto;line-height:normal;font-family:Menlo,'DejaVu Sans Mono',consolas,'Courier New',monospace\"><span style=\"font-weight: bold\"> Total params: </span><span style=\"color: #00af00; text-decoration-color: #00af00\">22</span> (88.00 B)\n",
       "</pre>\n"
      ],
      "text/plain": [
       "\u001b[1m Total params: \u001b[0m\u001b[38;5;34m22\u001b[0m (88.00 B)\n"
      ]
     },
     "metadata": {},
     "output_type": "display_data"
    },
    {
     "data": {
      "text/html": [
       "<pre style=\"white-space:pre;overflow-x:auto;line-height:normal;font-family:Menlo,'DejaVu Sans Mono',consolas,'Courier New',monospace\"><span style=\"font-weight: bold\"> Trainable params: </span><span style=\"color: #00af00; text-decoration-color: #00af00\">22</span> (88.00 B)\n",
       "</pre>\n"
      ],
      "text/plain": [
       "\u001b[1m Trainable params: \u001b[0m\u001b[38;5;34m22\u001b[0m (88.00 B)\n"
      ]
     },
     "metadata": {},
     "output_type": "display_data"
    },
    {
     "data": {
      "text/html": [
       "<pre style=\"white-space:pre;overflow-x:auto;line-height:normal;font-family:Menlo,'DejaVu Sans Mono',consolas,'Courier New',monospace\"><span style=\"font-weight: bold\"> Non-trainable params: </span><span style=\"color: #00af00; text-decoration-color: #00af00\">0</span> (0.00 B)\n",
       "</pre>\n"
      ],
      "text/plain": [
       "\u001b[1m Non-trainable params: \u001b[0m\u001b[38;5;34m0\u001b[0m (0.00 B)\n"
      ]
     },
     "metadata": {},
     "output_type": "display_data"
    }
   ],
   "source": [
    "input_shape = [X_train.shape[1]]\n",
    "inputs = keras.Input(shape=input_shape)\n",
    "h = keras.layers.Dense(4, activation='relu')(inputs)\n",
    "output = keras.layers.Dense(2, activation='softmax')(h)\n",
    "\n",
    "func_model = keras.Model(inputs=inputs, outputs=output)\n",
    "func_model.summary()"
   ]
  },
  {
   "cell_type": "code",
   "execution_count": 5,
   "id": "725c076c-075d-4c0c-b848-0759bf36c09d",
   "metadata": {
    "execution": {
     "iopub.execute_input": "2024-05-13T01:14:16.423917Z",
     "iopub.status.busy": "2024-05-13T01:14:16.423674Z",
     "iopub.status.idle": "2024-05-13T01:14:20.699576Z",
     "shell.execute_reply": "2024-05-13T01:14:20.699145Z",
     "shell.execute_reply.started": "2024-05-13T01:14:16.423874Z"
    }
   },
   "outputs": [
    {
     "name": "stdout",
     "output_type": "stream",
     "text": [
      "Epoch 1/120\n"
     ]
    },
    {
     "name": "stderr",
     "output_type": "stream",
     "text": [
      "/usr/local/lib/python3.10/dist-packages/keras/src/backend/tensorflow/nn.py:674: UserWarning: \"`binary_crossentropy` received `from_logits=True`, but the `output` argument was produced by a Sigmoid activation and thus does not represent logits. Was this intended?\n",
      "  output, from_logits = _get_logits(\n"
     ]
    },
    {
     "name": "stdout",
     "output_type": "stream",
     "text": [
      "\u001b[1m23/23\u001b[0m \u001b[32m━━━━━━━━━━━━━━━━━━━━\u001b[0m\u001b[37m\u001b[0m \u001b[1m0s\u001b[0m 5ms/step - acc: 0.5169 - loss: 0.7037 - val_acc: 0.4250 - val_loss: 0.6911\n",
      "Epoch 2/120\n",
      "\u001b[1m23/23\u001b[0m \u001b[32m━━━━━━━━━━━━━━━━━━━━\u001b[0m\u001b[37m\u001b[0m \u001b[1m0s\u001b[0m 980us/step - acc: 0.5119 - loss: 0.6729 - val_acc: 0.6375 - val_loss: 0.6646\n",
      "Epoch 3/120\n",
      "\u001b[1m23/23\u001b[0m \u001b[32m━━━━━━━━━━━━━━━━━━━━\u001b[0m\u001b[37m\u001b[0m \u001b[1m0s\u001b[0m 925us/step - acc: 0.6918 - loss: 0.6504 - val_acc: 0.8250 - val_loss: 0.6412\n",
      "Epoch 4/120\n",
      "\u001b[1m23/23\u001b[0m \u001b[32m━━━━━━━━━━━━━━━━━━━━\u001b[0m\u001b[37m\u001b[0m \u001b[1m0s\u001b[0m 948us/step - acc: 0.8219 - loss: 0.6276 - val_acc: 0.9250 - val_loss: 0.6163\n",
      "Epoch 5/120\n",
      "\u001b[1m23/23\u001b[0m \u001b[32m━━━━━━━━━━━━━━━━━━━━\u001b[0m\u001b[37m\u001b[0m \u001b[1m0s\u001b[0m 917us/step - acc: 0.9564 - loss: 0.5998 - val_acc: 0.9750 - val_loss: 0.5912\n",
      "Epoch 6/120\n",
      "\u001b[1m23/23\u001b[0m \u001b[32m━━━━━━━━━━━━━━━━━━━━\u001b[0m\u001b[37m\u001b[0m \u001b[1m0s\u001b[0m 909us/step - acc: 0.9691 - loss: 0.5727 - val_acc: 0.9750 - val_loss: 0.5668\n",
      "Epoch 7/120\n",
      "\u001b[1m23/23\u001b[0m \u001b[32m━━━━━━━━━━━━━━━━━━━━\u001b[0m\u001b[37m\u001b[0m \u001b[1m0s\u001b[0m 890us/step - acc: 0.9698 - loss: 0.5521 - val_acc: 0.9750 - val_loss: 0.5409\n",
      "Epoch 8/120\n",
      "\u001b[1m23/23\u001b[0m \u001b[32m━━━━━━━━━━━━━━━━━━━━\u001b[0m\u001b[37m\u001b[0m \u001b[1m0s\u001b[0m 1ms/step - acc: 0.9770 - loss: 0.5166 - val_acc: 0.9750 - val_loss: 0.5089\n",
      "Epoch 9/120\n",
      "\u001b[1m23/23\u001b[0m \u001b[32m━━━━━━━━━━━━━━━━━━━━\u001b[0m\u001b[37m\u001b[0m \u001b[1m0s\u001b[0m 912us/step - acc: 0.9749 - loss: 0.4830 - val_acc: 0.9750 - val_loss: 0.4806\n",
      "Epoch 10/120\n",
      "\u001b[1m23/23\u001b[0m \u001b[32m━━━━━━━━━━━━━━━━━━━━\u001b[0m\u001b[37m\u001b[0m \u001b[1m0s\u001b[0m 899us/step - acc: 0.9665 - loss: 0.4601 - val_acc: 0.9500 - val_loss: 0.4516\n",
      "Epoch 11/120\n",
      "\u001b[1m23/23\u001b[0m \u001b[32m━━━━━━━━━━━━━━━━━━━━\u001b[0m\u001b[37m\u001b[0m \u001b[1m0s\u001b[0m 869us/step - acc: 0.9616 - loss: 0.4337 - val_acc: 0.9750 - val_loss: 0.4233\n",
      "Epoch 12/120\n",
      "\u001b[1m23/23\u001b[0m \u001b[32m━━━━━━━━━━━━━━━━━━━━\u001b[0m\u001b[37m\u001b[0m \u001b[1m0s\u001b[0m 1ms/step - acc: 0.9687 - loss: 0.3902 - val_acc: 0.9750 - val_loss: 0.3960\n",
      "Epoch 13/120\n",
      "\u001b[1m23/23\u001b[0m \u001b[32m━━━━━━━━━━━━━━━━━━━━\u001b[0m\u001b[37m\u001b[0m \u001b[1m0s\u001b[0m 906us/step - acc: 0.9705 - loss: 0.3695 - val_acc: 0.9500 - val_loss: 0.3699\n",
      "Epoch 14/120\n",
      "\u001b[1m23/23\u001b[0m \u001b[32m━━━━━━━━━━━━━━━━━━━━\u001b[0m\u001b[37m\u001b[0m \u001b[1m0s\u001b[0m 873us/step - acc: 0.9641 - loss: 0.3459 - val_acc: 0.9750 - val_loss: 0.3462\n",
      "Epoch 15/120\n",
      "\u001b[1m23/23\u001b[0m \u001b[32m━━━━━━━━━━━━━━━━━━━━\u001b[0m\u001b[37m\u001b[0m \u001b[1m0s\u001b[0m 923us/step - acc: 0.9706 - loss: 0.3271 - val_acc: 0.9750 - val_loss: 0.3245\n",
      "Epoch 16/120\n",
      "\u001b[1m23/23\u001b[0m \u001b[32m━━━━━━━━━━━━━━━━━━━━\u001b[0m\u001b[37m\u001b[0m \u001b[1m0s\u001b[0m 992us/step - acc: 0.9720 - loss: 0.3054 - val_acc: 0.9750 - val_loss: 0.3027\n",
      "Epoch 17/120\n",
      "\u001b[1m23/23\u001b[0m \u001b[32m━━━━━━━━━━━━━━━━━━━━\u001b[0m\u001b[37m\u001b[0m \u001b[1m0s\u001b[0m 951us/step - acc: 0.9603 - loss: 0.2916 - val_acc: 0.9750 - val_loss: 0.2828\n",
      "Epoch 18/120\n",
      "\u001b[1m23/23\u001b[0m \u001b[32m━━━━━━━━━━━━━━━━━━━━\u001b[0m\u001b[37m\u001b[0m \u001b[1m0s\u001b[0m 861us/step - acc: 0.9521 - loss: 0.2721 - val_acc: 0.9750 - val_loss: 0.2667\n",
      "Epoch 19/120\n",
      "\u001b[1m23/23\u001b[0m \u001b[32m━━━━━━━━━━━━━━━━━━━━\u001b[0m\u001b[37m\u001b[0m \u001b[1m0s\u001b[0m 923us/step - acc: 0.9701 - loss: 0.2410 - val_acc: 0.9750 - val_loss: 0.2524\n",
      "Epoch 20/120\n",
      "\u001b[1m23/23\u001b[0m \u001b[32m━━━━━━━━━━━━━━━━━━━━\u001b[0m\u001b[37m\u001b[0m \u001b[1m0s\u001b[0m 896us/step - acc: 0.9691 - loss: 0.2297 - val_acc: 0.9500 - val_loss: 0.2383\n",
      "Epoch 21/120\n",
      "\u001b[1m23/23\u001b[0m \u001b[32m━━━━━━━━━━━━━━━━━━━━\u001b[0m\u001b[37m\u001b[0m \u001b[1m0s\u001b[0m 923us/step - acc: 0.9616 - loss: 0.2234 - val_acc: 0.9500 - val_loss: 0.2266\n",
      "Epoch 22/120\n",
      "\u001b[1m23/23\u001b[0m \u001b[32m━━━━━━━━━━━━━━━━━━━━\u001b[0m\u001b[37m\u001b[0m \u001b[1m0s\u001b[0m 878us/step - acc: 0.9673 - loss: 0.2058 - val_acc: 0.9500 - val_loss: 0.2155\n",
      "Epoch 23/120\n",
      "\u001b[1m23/23\u001b[0m \u001b[32m━━━━━━━━━━━━━━━━━━━━\u001b[0m\u001b[37m\u001b[0m \u001b[1m0s\u001b[0m 915us/step - acc: 0.9555 - loss: 0.2111 - val_acc: 0.9750 - val_loss: 0.2053\n",
      "Epoch 24/120\n",
      "\u001b[1m23/23\u001b[0m \u001b[32m━━━━━━━━━━━━━━━━━━━━\u001b[0m\u001b[37m\u001b[0m \u001b[1m0s\u001b[0m 885us/step - acc: 0.9740 - loss: 0.1798 - val_acc: 0.9500 - val_loss: 0.1981\n",
      "Epoch 25/120\n",
      "\u001b[1m23/23\u001b[0m \u001b[32m━━━━━━━━━━━━━━━━━━━━\u001b[0m\u001b[37m\u001b[0m \u001b[1m0s\u001b[0m 866us/step - acc: 0.9531 - loss: 0.2074 - val_acc: 0.9500 - val_loss: 0.1902\n",
      "Epoch 26/120\n",
      "\u001b[1m23/23\u001b[0m \u001b[32m━━━━━━━━━━━━━━━━━━━━\u001b[0m\u001b[37m\u001b[0m \u001b[1m0s\u001b[0m 864us/step - acc: 0.9688 - loss: 0.1828 - val_acc: 0.9750 - val_loss: 0.1800\n",
      "Epoch 27/120\n",
      "\u001b[1m23/23\u001b[0m \u001b[32m━━━━━━━━━━━━━━━━━━━━\u001b[0m\u001b[37m\u001b[0m \u001b[1m0s\u001b[0m 880us/step - acc: 0.9721 - loss: 0.1659 - val_acc: 0.9750 - val_loss: 0.1737\n",
      "Epoch 28/120\n",
      "\u001b[1m23/23\u001b[0m \u001b[32m━━━━━━━━━━━━━━━━━━━━\u001b[0m\u001b[37m\u001b[0m \u001b[1m0s\u001b[0m 876us/step - acc: 0.9637 - loss: 0.1645 - val_acc: 0.9750 - val_loss: 0.1658\n",
      "Epoch 29/120\n",
      "\u001b[1m23/23\u001b[0m \u001b[32m━━━━━━━━━━━━━━━━━━━━\u001b[0m\u001b[37m\u001b[0m \u001b[1m0s\u001b[0m 1ms/step - acc: 0.9607 - loss: 0.1789 - val_acc: 0.9750 - val_loss: 0.1626\n",
      "Epoch 30/120\n",
      "\u001b[1m23/23\u001b[0m \u001b[32m━━━━━━━━━━━━━━━━━━━━\u001b[0m\u001b[37m\u001b[0m \u001b[1m0s\u001b[0m 890us/step - acc: 0.9709 - loss: 0.1602 - val_acc: 0.9750 - val_loss: 0.1548\n",
      "Epoch 31/120\n",
      "\u001b[1m23/23\u001b[0m \u001b[32m━━━━━━━━━━━━━━━━━━━━\u001b[0m\u001b[37m\u001b[0m \u001b[1m0s\u001b[0m 877us/step - acc: 0.9692 - loss: 0.1480 - val_acc: 0.9750 - val_loss: 0.1503\n",
      "Epoch 32/120\n",
      "\u001b[1m23/23\u001b[0m \u001b[32m━━━━━━━━━━━━━━━━━━━━\u001b[0m\u001b[37m\u001b[0m \u001b[1m0s\u001b[0m 938us/step - acc: 0.9692 - loss: 0.1363 - val_acc: 0.9750 - val_loss: 0.1475\n",
      "Epoch 33/120\n",
      "\u001b[1m23/23\u001b[0m \u001b[32m━━━━━━━━━━━━━━━━━━━━\u001b[0m\u001b[37m\u001b[0m \u001b[1m0s\u001b[0m 928us/step - acc: 0.9739 - loss: 0.1399 - val_acc: 0.9750 - val_loss: 0.1430\n",
      "Epoch 34/120\n",
      "\u001b[1m23/23\u001b[0m \u001b[32m━━━━━━━━━━━━━━━━━━━━\u001b[0m\u001b[37m\u001b[0m \u001b[1m0s\u001b[0m 871us/step - acc: 0.9743 - loss: 0.1396 - val_acc: 0.9750 - val_loss: 0.1417\n",
      "Epoch 35/120\n",
      "\u001b[1m23/23\u001b[0m \u001b[32m━━━━━━━━━━━━━━━━━━━━\u001b[0m\u001b[37m\u001b[0m \u001b[1m0s\u001b[0m 884us/step - acc: 0.9808 - loss: 0.1211 - val_acc: 0.9750 - val_loss: 0.1367\n",
      "Epoch 36/120\n",
      "\u001b[1m23/23\u001b[0m \u001b[32m━━━━━━━━━━━━━━━━━━━━\u001b[0m\u001b[37m\u001b[0m \u001b[1m0s\u001b[0m 938us/step - acc: 0.9701 - loss: 0.1370 - val_acc: 0.9750 - val_loss: 0.1329\n",
      "Epoch 37/120\n",
      "\u001b[1m23/23\u001b[0m \u001b[32m━━━━━━━━━━━━━━━━━━━━\u001b[0m\u001b[37m\u001b[0m \u001b[1m0s\u001b[0m 897us/step - acc: 0.9680 - loss: 0.1316 - val_acc: 0.9750 - val_loss: 0.1304\n",
      "Epoch 38/120\n",
      "\u001b[1m23/23\u001b[0m \u001b[32m━━━━━━━━━━━━━━━━━━━━\u001b[0m\u001b[37m\u001b[0m \u001b[1m0s\u001b[0m 868us/step - acc: 0.9710 - loss: 0.1136 - val_acc: 0.9750 - val_loss: 0.1282\n",
      "Epoch 39/120\n",
      "\u001b[1m23/23\u001b[0m \u001b[32m━━━━━━━━━━━━━━━━━━━━\u001b[0m\u001b[37m\u001b[0m \u001b[1m0s\u001b[0m 885us/step - acc: 0.9664 - loss: 0.1233 - val_acc: 0.9750 - val_loss: 0.1253\n",
      "Epoch 40/120\n",
      "\u001b[1m23/23\u001b[0m \u001b[32m━━━━━━━━━━━━━━━━━━━━\u001b[0m\u001b[37m\u001b[0m \u001b[1m0s\u001b[0m 859us/step - acc: 0.9766 - loss: 0.1097 - val_acc: 0.9750 - val_loss: 0.1237\n",
      "Epoch 41/120\n",
      "\u001b[1m23/23\u001b[0m \u001b[32m━━━━━━━━━━━━━━━━━━━━\u001b[0m\u001b[37m\u001b[0m \u001b[1m0s\u001b[0m 846us/step - acc: 0.9685 - loss: 0.1172 - val_acc: 0.9750 - val_loss: 0.1220\n",
      "Epoch 42/120\n",
      "\u001b[1m23/23\u001b[0m \u001b[32m━━━━━━━━━━━━━━━━━━━━\u001b[0m\u001b[37m\u001b[0m \u001b[1m0s\u001b[0m 908us/step - acc: 0.9664 - loss: 0.1280 - val_acc: 0.9750 - val_loss: 0.1205\n",
      "Epoch 43/120\n",
      "\u001b[1m23/23\u001b[0m \u001b[32m━━━━━━━━━━━━━━━━━━━━\u001b[0m\u001b[37m\u001b[0m \u001b[1m0s\u001b[0m 856us/step - acc: 0.9753 - loss: 0.1149 - val_acc: 0.9750 - val_loss: 0.1183\n",
      "Epoch 44/120\n",
      "\u001b[1m23/23\u001b[0m \u001b[32m━━━━━━━━━━━━━━━━━━━━\u001b[0m\u001b[37m\u001b[0m \u001b[1m0s\u001b[0m 830us/step - acc: 0.9721 - loss: 0.1206 - val_acc: 0.9750 - val_loss: 0.1165\n",
      "Epoch 45/120\n",
      "\u001b[1m23/23\u001b[0m \u001b[32m━━━━━━━━━━━━━━━━━━━━\u001b[0m\u001b[37m\u001b[0m \u001b[1m0s\u001b[0m 862us/step - acc: 0.9733 - loss: 0.1138 - val_acc: 0.9750 - val_loss: 0.1148\n",
      "Epoch 46/120\n",
      "\u001b[1m23/23\u001b[0m \u001b[32m━━━━━━━━━━━━━━━━━━━━\u001b[0m\u001b[37m\u001b[0m \u001b[1m0s\u001b[0m 925us/step - acc: 0.9802 - loss: 0.0970 - val_acc: 0.9750 - val_loss: 0.1131\n",
      "Epoch 47/120\n",
      "\u001b[1m23/23\u001b[0m \u001b[32m━━━━━━━━━━━━━━━━━━━━\u001b[0m\u001b[37m\u001b[0m \u001b[1m0s\u001b[0m 881us/step - acc: 0.9691 - loss: 0.1323 - val_acc: 0.9750 - val_loss: 0.1120\n",
      "Epoch 48/120\n",
      "\u001b[1m23/23\u001b[0m \u001b[32m━━━━━━━━━━━━━━━━━━━━\u001b[0m\u001b[37m\u001b[0m \u001b[1m0s\u001b[0m 879us/step - acc: 0.9662 - loss: 0.1383 - val_acc: 0.9750 - val_loss: 0.1110\n",
      "Epoch 49/120\n",
      "\u001b[1m23/23\u001b[0m \u001b[32m━━━━━━━━━━━━━━━━━━━━\u001b[0m\u001b[37m\u001b[0m \u001b[1m0s\u001b[0m 875us/step - acc: 0.9794 - loss: 0.1083 - val_acc: 0.9750 - val_loss: 0.1096\n",
      "Epoch 50/120\n",
      "\u001b[1m23/23\u001b[0m \u001b[32m━━━━━━━━━━━━━━━━━━━━\u001b[0m\u001b[37m\u001b[0m \u001b[1m0s\u001b[0m 851us/step - acc: 0.9768 - loss: 0.1031 - val_acc: 0.9750 - val_loss: 0.1092\n",
      "Epoch 51/120\n",
      "\u001b[1m23/23\u001b[0m \u001b[32m━━━━━━━━━━━━━━━━━━━━\u001b[0m\u001b[37m\u001b[0m \u001b[1m0s\u001b[0m 849us/step - acc: 0.9770 - loss: 0.1206 - val_acc: 0.9750 - val_loss: 0.1072\n",
      "Epoch 52/120\n",
      "\u001b[1m23/23\u001b[0m \u001b[32m━━━━━━━━━━━━━━━━━━━━\u001b[0m\u001b[37m\u001b[0m \u001b[1m0s\u001b[0m 851us/step - acc: 0.9749 - loss: 0.0983 - val_acc: 0.9750 - val_loss: 0.1065\n",
      "Epoch 53/120\n",
      "\u001b[1m23/23\u001b[0m \u001b[32m━━━━━━━━━━━━━━━━━━━━\u001b[0m\u001b[37m\u001b[0m \u001b[1m0s\u001b[0m 855us/step - acc: 0.9783 - loss: 0.0966 - val_acc: 0.9750 - val_loss: 0.1052\n",
      "Epoch 54/120\n",
      "\u001b[1m23/23\u001b[0m \u001b[32m━━━━━━━━━━━━━━━━━━━━\u001b[0m\u001b[37m\u001b[0m \u001b[1m0s\u001b[0m 856us/step - acc: 0.9744 - loss: 0.1128 - val_acc: 0.9750 - val_loss: 0.1044\n",
      "Epoch 55/120\n",
      "\u001b[1m23/23\u001b[0m \u001b[32m━━━━━━━━━━━━━━━━━━━━\u001b[0m\u001b[37m\u001b[0m \u001b[1m0s\u001b[0m 856us/step - acc: 0.9804 - loss: 0.0914 - val_acc: 0.9750 - val_loss: 0.1039\n",
      "Epoch 56/120\n",
      "\u001b[1m23/23\u001b[0m \u001b[32m━━━━━━━━━━━━━━━━━━━━\u001b[0m\u001b[37m\u001b[0m \u001b[1m0s\u001b[0m 863us/step - acc: 0.9725 - loss: 0.1020 - val_acc: 0.9750 - val_loss: 0.1030\n",
      "Epoch 57/120\n",
      "\u001b[1m23/23\u001b[0m \u001b[32m━━━━━━━━━━━━━━━━━━━━\u001b[0m\u001b[37m\u001b[0m \u001b[1m0s\u001b[0m 867us/step - acc: 0.9789 - loss: 0.0896 - val_acc: 0.9750 - val_loss: 0.1023\n",
      "Epoch 58/120\n",
      "\u001b[1m23/23\u001b[0m \u001b[32m━━━━━━━━━━━━━━━━━━━━\u001b[0m\u001b[37m\u001b[0m \u001b[1m0s\u001b[0m 884us/step - acc: 0.9804 - loss: 0.0828 - val_acc: 0.9750 - val_loss: 0.1028\n",
      "Epoch 59/120\n",
      "\u001b[1m23/23\u001b[0m \u001b[32m━━━━━━━━━━━━━━━━━━━━\u001b[0m\u001b[37m\u001b[0m \u001b[1m0s\u001b[0m 914us/step - acc: 0.9765 - loss: 0.0969 - val_acc: 0.9750 - val_loss: 0.1014\n",
      "Epoch 60/120\n",
      "\u001b[1m23/23\u001b[0m \u001b[32m━━━━━━━━━━━━━━━━━━━━\u001b[0m\u001b[37m\u001b[0m \u001b[1m0s\u001b[0m 944us/step - acc: 0.9786 - loss: 0.1294 - val_acc: 0.9750 - val_loss: 0.1006\n",
      "Epoch 61/120\n",
      "\u001b[1m23/23\u001b[0m \u001b[32m━━━━━━━━━━━━━━━━━━━━\u001b[0m\u001b[37m\u001b[0m \u001b[1m0s\u001b[0m 888us/step - acc: 0.9740 - loss: 0.0961 - val_acc: 0.9750 - val_loss: 0.1001\n",
      "Epoch 62/120\n",
      "\u001b[1m23/23\u001b[0m \u001b[32m━━━━━━━━━━━━━━━━━━━━\u001b[0m\u001b[37m\u001b[0m \u001b[1m0s\u001b[0m 858us/step - acc: 0.9747 - loss: 0.1119 - val_acc: 0.9750 - val_loss: 0.0996\n",
      "Epoch 63/120\n",
      "\u001b[1m23/23\u001b[0m \u001b[32m━━━━━━━━━━━━━━━━━━━━\u001b[0m\u001b[37m\u001b[0m \u001b[1m0s\u001b[0m 859us/step - acc: 0.9753 - loss: 0.1298 - val_acc: 0.9750 - val_loss: 0.0994\n",
      "Epoch 64/120\n",
      "\u001b[1m23/23\u001b[0m \u001b[32m━━━━━━━━━━━━━━━━━━━━\u001b[0m\u001b[37m\u001b[0m \u001b[1m0s\u001b[0m 917us/step - acc: 0.9752 - loss: 0.1047 - val_acc: 0.9750 - val_loss: 0.0986\n",
      "Epoch 65/120\n",
      "\u001b[1m23/23\u001b[0m \u001b[32m━━━━━━━━━━━━━━━━━━━━\u001b[0m\u001b[37m\u001b[0m \u001b[1m0s\u001b[0m 893us/step - acc: 0.9756 - loss: 0.1013 - val_acc: 0.9750 - val_loss: 0.0990\n",
      "Epoch 66/120\n",
      "\u001b[1m23/23\u001b[0m \u001b[32m━━━━━━━━━━━━━━━━━━━━\u001b[0m\u001b[37m\u001b[0m \u001b[1m0s\u001b[0m 960us/step - acc: 0.9784 - loss: 0.0877 - val_acc: 0.9750 - val_loss: 0.0976\n",
      "Epoch 67/120\n",
      "\u001b[1m23/23\u001b[0m \u001b[32m━━━━━━━━━━━━━━━━━━━━\u001b[0m\u001b[37m\u001b[0m \u001b[1m0s\u001b[0m 837us/step - acc: 0.9751 - loss: 0.1016 - val_acc: 0.9750 - val_loss: 0.0973\n",
      "Epoch 68/120\n",
      "\u001b[1m23/23\u001b[0m \u001b[32m━━━━━━━━━━━━━━━━━━━━\u001b[0m\u001b[37m\u001b[0m \u001b[1m0s\u001b[0m 852us/step - acc: 0.9748 - loss: 0.1281 - val_acc: 0.9750 - val_loss: 0.0971\n",
      "Epoch 69/120\n",
      "\u001b[1m23/23\u001b[0m \u001b[32m━━━━━━━━━━━━━━━━━━━━\u001b[0m\u001b[37m\u001b[0m \u001b[1m0s\u001b[0m 872us/step - acc: 0.9779 - loss: 0.0994 - val_acc: 0.9750 - val_loss: 0.0965\n",
      "Epoch 70/120\n",
      "\u001b[1m23/23\u001b[0m \u001b[32m━━━━━━━━━━━━━━━━━━━━\u001b[0m\u001b[37m\u001b[0m \u001b[1m0s\u001b[0m 875us/step - acc: 0.9737 - loss: 0.1119 - val_acc: 0.9750 - val_loss: 0.0968\n",
      "Epoch 71/120\n",
      "\u001b[1m23/23\u001b[0m \u001b[32m━━━━━━━━━━━━━━━━━━━━\u001b[0m\u001b[37m\u001b[0m \u001b[1m0s\u001b[0m 920us/step - acc: 0.9768 - loss: 0.0920 - val_acc: 0.9750 - val_loss: 0.0959\n",
      "Epoch 72/120\n",
      "\u001b[1m23/23\u001b[0m \u001b[32m━━━━━━━━━━━━━━━━━━━━\u001b[0m\u001b[37m\u001b[0m \u001b[1m0s\u001b[0m 858us/step - acc: 0.9813 - loss: 0.0871 - val_acc: 0.9750 - val_loss: 0.0955\n",
      "Epoch 73/120\n",
      "\u001b[1m23/23\u001b[0m \u001b[32m━━━━━━━━━━━━━━━━━━━━\u001b[0m\u001b[37m\u001b[0m \u001b[1m0s\u001b[0m 946us/step - acc: 0.9763 - loss: 0.0906 - val_acc: 0.9750 - val_loss: 0.0952\n",
      "Epoch 74/120\n",
      "\u001b[1m23/23\u001b[0m \u001b[32m━━━━━━━━━━━━━━━━━━━━\u001b[0m\u001b[37m\u001b[0m \u001b[1m0s\u001b[0m 880us/step - acc: 0.9822 - loss: 0.1017 - val_acc: 0.9750 - val_loss: 0.0948\n",
      "Epoch 75/120\n",
      "\u001b[1m23/23\u001b[0m \u001b[32m━━━━━━━━━━━━━━━━━━━━\u001b[0m\u001b[37m\u001b[0m \u001b[1m0s\u001b[0m 899us/step - acc: 0.9759 - loss: 0.0862 - val_acc: 0.9750 - val_loss: 0.0948\n",
      "Epoch 76/120\n",
      "\u001b[1m23/23\u001b[0m \u001b[32m━━━━━━━━━━━━━━━━━━━━\u001b[0m\u001b[37m\u001b[0m \u001b[1m0s\u001b[0m 879us/step - acc: 0.9699 - loss: 0.0985 - val_acc: 0.9750 - val_loss: 0.0943\n",
      "Epoch 77/120\n",
      "\u001b[1m23/23\u001b[0m \u001b[32m━━━━━━━━━━━━━━━━━━━━\u001b[0m\u001b[37m\u001b[0m \u001b[1m0s\u001b[0m 889us/step - acc: 0.9809 - loss: 0.0788 - val_acc: 0.9750 - val_loss: 0.0940\n",
      "Epoch 78/120\n",
      "\u001b[1m23/23\u001b[0m \u001b[32m━━━━━━━━━━━━━━━━━━━━\u001b[0m\u001b[37m\u001b[0m \u001b[1m0s\u001b[0m 900us/step - acc: 0.9791 - loss: 0.1071 - val_acc: 0.9750 - val_loss: 0.0949\n",
      "Epoch 79/120\n",
      "\u001b[1m23/23\u001b[0m \u001b[32m━━━━━━━━━━━━━━━━━━━━\u001b[0m\u001b[37m\u001b[0m \u001b[1m0s\u001b[0m 914us/step - acc: 0.9824 - loss: 0.0768 - val_acc: 0.9750 - val_loss: 0.0937\n",
      "Epoch 80/120\n",
      "\u001b[1m23/23\u001b[0m \u001b[32m━━━━━━━━━━━━━━━━━━━━\u001b[0m\u001b[37m\u001b[0m \u001b[1m0s\u001b[0m 833us/step - acc: 0.9741 - loss: 0.1543 - val_acc: 0.9750 - val_loss: 0.0935\n",
      "Epoch 81/120\n",
      "\u001b[1m23/23\u001b[0m \u001b[32m━━━━━━━━━━━━━━━━━━━━\u001b[0m\u001b[37m\u001b[0m \u001b[1m0s\u001b[0m 864us/step - acc: 0.9723 - loss: 0.0970 - val_acc: 0.9750 - val_loss: 0.0931\n",
      "Epoch 82/120\n",
      "\u001b[1m23/23\u001b[0m \u001b[32m━━━━━━━━━━━━━━━━━━━━\u001b[0m\u001b[37m\u001b[0m \u001b[1m0s\u001b[0m 868us/step - acc: 0.9768 - loss: 0.1191 - val_acc: 0.9750 - val_loss: 0.0930\n",
      "Epoch 83/120\n",
      "\u001b[1m23/23\u001b[0m \u001b[32m━━━━━━━━━━━━━━━━━━━━\u001b[0m\u001b[37m\u001b[0m \u001b[1m0s\u001b[0m 869us/step - acc: 0.9631 - loss: 0.1439 - val_acc: 0.9750 - val_loss: 0.0939\n",
      "Epoch 84/120\n",
      "\u001b[1m23/23\u001b[0m \u001b[32m━━━━━━━━━━━━━━━━━━━━\u001b[0m\u001b[37m\u001b[0m \u001b[1m0s\u001b[0m 904us/step - acc: 0.9726 - loss: 0.1074 - val_acc: 0.9750 - val_loss: 0.0927\n",
      "Epoch 85/120\n",
      "\u001b[1m23/23\u001b[0m \u001b[32m━━━━━━━━━━━━━━━━━━━━\u001b[0m\u001b[37m\u001b[0m \u001b[1m0s\u001b[0m 913us/step - acc: 0.9734 - loss: 0.1066 - val_acc: 0.9750 - val_loss: 0.0925\n",
      "Epoch 86/120\n",
      "\u001b[1m23/23\u001b[0m \u001b[32m━━━━━━━━━━━━━━━━━━━━\u001b[0m\u001b[37m\u001b[0m \u001b[1m0s\u001b[0m 888us/step - acc: 0.9794 - loss: 0.0886 - val_acc: 0.9750 - val_loss: 0.0925\n",
      "Epoch 87/120\n",
      "\u001b[1m23/23\u001b[0m \u001b[32m━━━━━━━━━━━━━━━━━━━━\u001b[0m\u001b[37m\u001b[0m \u001b[1m0s\u001b[0m 863us/step - acc: 0.9753 - loss: 0.1034 - val_acc: 0.9750 - val_loss: 0.0923\n",
      "Epoch 88/120\n",
      "\u001b[1m23/23\u001b[0m \u001b[32m━━━━━━━━━━━━━━━━━━━━\u001b[0m\u001b[37m\u001b[0m \u001b[1m0s\u001b[0m 1ms/step - acc: 0.9771 - loss: 0.0904 - val_acc: 0.9750 - val_loss: 0.0920\n",
      "Epoch 89/120\n",
      "\u001b[1m23/23\u001b[0m \u001b[32m━━━━━━━━━━━━━━━━━━━━\u001b[0m\u001b[37m\u001b[0m \u001b[1m0s\u001b[0m 870us/step - acc: 0.9789 - loss: 0.0967 - val_acc: 0.9750 - val_loss: 0.0920\n",
      "Epoch 90/120\n",
      "\u001b[1m23/23\u001b[0m \u001b[32m━━━━━━━━━━━━━━━━━━━━\u001b[0m\u001b[37m\u001b[0m \u001b[1m0s\u001b[0m 868us/step - acc: 0.9730 - loss: 0.0801 - val_acc: 0.9750 - val_loss: 0.0915\n",
      "Epoch 91/120\n",
      "\u001b[1m23/23\u001b[0m \u001b[32m━━━━━━━━━━━━━━━━━━━━\u001b[0m\u001b[37m\u001b[0m \u001b[1m0s\u001b[0m 835us/step - acc: 0.9802 - loss: 0.0771 - val_acc: 0.9750 - val_loss: 0.0915\n",
      "Epoch 92/120\n",
      "\u001b[1m23/23\u001b[0m \u001b[32m━━━━━━━━━━━━━━━━━━━━\u001b[0m\u001b[37m\u001b[0m \u001b[1m0s\u001b[0m 792us/step - acc: 0.9753 - loss: 0.1257 - val_acc: 0.9750 - val_loss: 0.0913\n",
      "Epoch 93/120\n",
      "\u001b[1m23/23\u001b[0m \u001b[32m━━━━━━━━━━━━━━━━━━━━\u001b[0m\u001b[37m\u001b[0m \u001b[1m0s\u001b[0m 851us/step - acc: 0.9695 - loss: 0.1636 - val_acc: 0.9750 - val_loss: 0.0920\n",
      "Epoch 94/120\n",
      "\u001b[1m23/23\u001b[0m \u001b[32m━━━━━━━━━━━━━━━━━━━━\u001b[0m\u001b[37m\u001b[0m \u001b[1m0s\u001b[0m 897us/step - acc: 0.9749 - loss: 0.1092 - val_acc: 0.9750 - val_loss: 0.0912\n",
      "Epoch 95/120\n",
      "\u001b[1m23/23\u001b[0m \u001b[32m━━━━━━━━━━━━━━━━━━━━\u001b[0m\u001b[37m\u001b[0m \u001b[1m0s\u001b[0m 868us/step - acc: 0.9774 - loss: 0.0942 - val_acc: 0.9750 - val_loss: 0.0911\n",
      "Epoch 96/120\n",
      "\u001b[1m23/23\u001b[0m \u001b[32m━━━━━━━━━━━━━━━━━━━━\u001b[0m\u001b[37m\u001b[0m \u001b[1m0s\u001b[0m 847us/step - acc: 0.9777 - loss: 0.1115 - val_acc: 0.9750 - val_loss: 0.0910\n",
      "Epoch 97/120\n",
      "\u001b[1m23/23\u001b[0m \u001b[32m━━━━━━━━━━━━━━━━━━━━\u001b[0m\u001b[37m\u001b[0m \u001b[1m0s\u001b[0m 891us/step - acc: 0.9730 - loss: 0.0944 - val_acc: 0.9750 - val_loss: 0.0908\n",
      "Epoch 98/120\n",
      "\u001b[1m23/23\u001b[0m \u001b[32m━━━━━━━━━━━━━━━━━━━━\u001b[0m\u001b[37m\u001b[0m \u001b[1m0s\u001b[0m 856us/step - acc: 0.9810 - loss: 0.1041 - val_acc: 0.9750 - val_loss: 0.0919\n",
      "Epoch 99/120\n",
      "\u001b[1m23/23\u001b[0m \u001b[32m━━━━━━━━━━━━━━━━━━━━\u001b[0m\u001b[37m\u001b[0m \u001b[1m0s\u001b[0m 847us/step - acc: 0.9735 - loss: 0.1123 - val_acc: 0.9750 - val_loss: 0.0909\n",
      "Epoch 100/120\n",
      "\u001b[1m23/23\u001b[0m \u001b[32m━━━━━━━━━━━━━━━━━━━━\u001b[0m\u001b[37m\u001b[0m \u001b[1m0s\u001b[0m 848us/step - acc: 0.9870 - loss: 0.0689 - val_acc: 0.9750 - val_loss: 0.0905\n",
      "Epoch 101/120\n",
      "\u001b[1m23/23\u001b[0m \u001b[32m━━━━━━━━━━━━━━━━━━━━\u001b[0m\u001b[37m\u001b[0m \u001b[1m0s\u001b[0m 893us/step - acc: 0.9666 - loss: 0.1471 - val_acc: 0.9750 - val_loss: 0.0904\n",
      "Epoch 102/120\n",
      "\u001b[1m23/23\u001b[0m \u001b[32m━━━━━━━━━━━━━━━━━━━━\u001b[0m\u001b[37m\u001b[0m \u001b[1m0s\u001b[0m 996us/step - acc: 0.9693 - loss: 0.1013 - val_acc: 0.9750 - val_loss: 0.0915\n",
      "Epoch 103/120\n",
      "\u001b[1m23/23\u001b[0m \u001b[32m━━━━━━━━━━━━━━━━━━━━\u001b[0m\u001b[37m\u001b[0m \u001b[1m0s\u001b[0m 859us/step - acc: 0.9766 - loss: 0.1010 - val_acc: 0.9750 - val_loss: 0.0907\n",
      "Epoch 104/120\n",
      "\u001b[1m23/23\u001b[0m \u001b[32m━━━━━━━━━━━━━━━━━━━━\u001b[0m\u001b[37m\u001b[0m \u001b[1m0s\u001b[0m 821us/step - acc: 0.9774 - loss: 0.0851 - val_acc: 0.9750 - val_loss: 0.0903\n",
      "Epoch 105/120\n",
      "\u001b[1m23/23\u001b[0m \u001b[32m━━━━━━━━━━━━━━━━━━━━\u001b[0m\u001b[37m\u001b[0m \u001b[1m0s\u001b[0m 850us/step - acc: 0.9757 - loss: 0.0935 - val_acc: 0.9750 - val_loss: 0.0903\n",
      "Epoch 106/120\n",
      "\u001b[1m23/23\u001b[0m \u001b[32m━━━━━━━━━━━━━━━━━━━━\u001b[0m\u001b[37m\u001b[0m \u001b[1m0s\u001b[0m 1ms/step - acc: 0.9778 - loss: 0.0914 - val_acc: 0.9750 - val_loss: 0.0909\n",
      "Epoch 107/120\n",
      "\u001b[1m23/23\u001b[0m \u001b[32m━━━━━━━━━━━━━━━━━━━━\u001b[0m\u001b[37m\u001b[0m \u001b[1m0s\u001b[0m 863us/step - acc: 0.9730 - loss: 0.0855 - val_acc: 0.9750 - val_loss: 0.0907\n",
      "Epoch 108/120\n",
      "\u001b[1m23/23\u001b[0m \u001b[32m━━━━━━━━━━━━━━━━━━━━\u001b[0m\u001b[37m\u001b[0m \u001b[1m0s\u001b[0m 908us/step - acc: 0.9750 - loss: 0.1117 - val_acc: 0.9750 - val_loss: 0.0905\n",
      "Epoch 109/120\n",
      "\u001b[1m23/23\u001b[0m \u001b[32m━━━━━━━━━━━━━━━━━━━━\u001b[0m\u001b[37m\u001b[0m \u001b[1m0s\u001b[0m 852us/step - acc: 0.9884 - loss: 0.0649 - val_acc: 0.9750 - val_loss: 0.0899\n",
      "Epoch 110/120\n",
      "\u001b[1m23/23\u001b[0m \u001b[32m━━━━━━━━━━━━━━━━━━━━\u001b[0m\u001b[37m\u001b[0m \u001b[1m0s\u001b[0m 860us/step - acc: 0.9850 - loss: 0.0755 - val_acc: 0.9750 - val_loss: 0.0907\n",
      "Epoch 111/120\n",
      "\u001b[1m23/23\u001b[0m \u001b[32m━━━━━━━━━━━━━━━━━━━━\u001b[0m\u001b[37m\u001b[0m \u001b[1m0s\u001b[0m 863us/step - acc: 0.9798 - loss: 0.0756 - val_acc: 0.9750 - val_loss: 0.0900\n",
      "Epoch 112/120\n",
      "\u001b[1m23/23\u001b[0m \u001b[32m━━━━━━━━━━━━━━━━━━━━\u001b[0m\u001b[37m\u001b[0m \u001b[1m0s\u001b[0m 836us/step - acc: 0.9746 - loss: 0.1066 - val_acc: 0.9750 - val_loss: 0.0900\n",
      "Epoch 113/120\n",
      "\u001b[1m23/23\u001b[0m \u001b[32m━━━━━━━━━━━━━━━━━━━━\u001b[0m\u001b[37m\u001b[0m \u001b[1m0s\u001b[0m 851us/step - acc: 0.9701 - loss: 0.1410 - val_acc: 0.9750 - val_loss: 0.0903\n",
      "Epoch 114/120\n",
      "\u001b[1m23/23\u001b[0m \u001b[32m━━━━━━━━━━━━━━━━━━━━\u001b[0m\u001b[37m\u001b[0m \u001b[1m0s\u001b[0m 845us/step - acc: 0.9852 - loss: 0.0667 - val_acc: 0.9750 - val_loss: 0.0899\n",
      "Epoch 115/120\n",
      "\u001b[1m23/23\u001b[0m \u001b[32m━━━━━━━━━━━━━━━━━━━━\u001b[0m\u001b[37m\u001b[0m \u001b[1m0s\u001b[0m 866us/step - acc: 0.9770 - loss: 0.0966 - val_acc: 0.9750 - val_loss: 0.0896\n",
      "Epoch 116/120\n",
      "\u001b[1m23/23\u001b[0m \u001b[32m━━━━━━━━━━━━━━━━━━━━\u001b[0m\u001b[37m\u001b[0m \u001b[1m0s\u001b[0m 914us/step - acc: 0.9732 - loss: 0.0879 - val_acc: 0.9750 - val_loss: 0.0902\n",
      "Epoch 117/120\n",
      "\u001b[1m23/23\u001b[0m \u001b[32m━━━━━━━━━━━━━━━━━━━━\u001b[0m\u001b[37m\u001b[0m \u001b[1m0s\u001b[0m 893us/step - acc: 0.9746 - loss: 0.0970 - val_acc: 0.9750 - val_loss: 0.0899\n",
      "Epoch 118/120\n",
      "\u001b[1m23/23\u001b[0m \u001b[32m━━━━━━━━━━━━━━━━━━━━\u001b[0m\u001b[37m\u001b[0m \u001b[1m0s\u001b[0m 840us/step - acc: 0.9825 - loss: 0.0705 - val_acc: 0.9750 - val_loss: 0.0897\n",
      "Epoch 119/120\n",
      "\u001b[1m23/23\u001b[0m \u001b[32m━━━━━━━━━━━━━━━━━━━━\u001b[0m\u001b[37m\u001b[0m \u001b[1m0s\u001b[0m 848us/step - acc: 0.9744 - loss: 0.0932 - val_acc: 0.9750 - val_loss: 0.0896\n",
      "Epoch 120/120\n",
      "\u001b[1m23/23\u001b[0m \u001b[32m━━━━━━━━━━━━━━━━━━━━\u001b[0m\u001b[37m\u001b[0m \u001b[1m0s\u001b[0m 936us/step - acc: 0.9767 - loss: 0.0818 - val_acc: 0.9750 - val_loss: 0.0895\n"
     ]
    }
   ],
   "source": [
    "# functional model compile 하기\n",
    "rmsprop = keras.optimizers.RMSprop(0.005)\n",
    "func_model.compile(optimizer = rmsprop, \n",
    "                   loss = keras.losses.BinaryCrossentropy(from_logits=True), \n",
    "                   metrics=['acc'])\n",
    "\n",
    "epochs = 120\n",
    "batch_size = 1024\n",
    "\n",
    "# functional model 학습\n",
    "history = func_model.fit(X_train, Y_train,\n",
    "                            #batch_size = batch_size,\n",
    "                            epochs = epochs,\n",
    "                            validation_split=0.1,\n",
    "                            verbose=1)"
   ]
  },
  {
   "cell_type": "code",
   "execution_count": 6,
   "id": "48dcf6e4-7a5d-4405-8f30-51539536ca01",
   "metadata": {
    "execution": {
     "iopub.execute_input": "2024-05-13T01:14:20.700452Z",
     "iopub.status.busy": "2024-05-13T01:14:20.700319Z",
     "iopub.status.idle": "2024-05-13T01:14:20.966857Z",
     "shell.execute_reply": "2024-05-13T01:14:20.966567Z",
     "shell.execute_reply.started": "2024-05-13T01:14:20.700442Z"
    }
   },
   "outputs": [
    {
     "data": {
      "image/png": "[encoded data removed]",
      "text/plain": [
       "<Figure size 640x480 with 1 Axes>"
      ]
     },
     "metadata": {},
     "output_type": "display_data"
    }
   ],
   "source": [
    "import matplotlib.pyplot as plt\n",
    "%matplotlib inline\n",
    "\n",
    "loss = history.history['loss']\n",
    "val_loss = history.history['val_loss']\n",
    "epochs = range(1, len(loss) + 1)\n",
    "\n",
    "plt.figure()\n",
    "plt.plot(epochs, loss, 'bo', label='Training loss')\n",
    "plt.plot(epochs, val_loss, 'r', label='Validation loss')\n",
    "plt.title('Training and validation loss')\n",
    "plt.legend()\n",
    "plt.show()"
   ]
  },
  {
   "cell_type": "code",
   "execution_count": 9,
   "id": "4de1a815-efa5-4bab-9b9e-2d9141ed9f6d",
   "metadata": {
    "execution": {
     "iopub.execute_input": "2024-05-13T01:18:06.687889Z",
     "iopub.status.busy": "2024-05-13T01:18:06.687255Z",
     "iopub.status.idle": "2024-05-13T01:18:06.732342Z",
     "shell.execute_reply": "2024-05-13T01:18:06.732047Z",
     "shell.execute_reply.started": "2024-05-13T01:18:06.687841Z"
    }
   },
   "outputs": [
    {
     "name": "stdout",
     "output_type": "stream",
     "text": [
      "7/7 - 0s - 2ms/step - acc: 0.9700 - loss: 0.0773\n",
      "Test loss: 0.077\n",
      "Test accuracy: 0.970\n"
     ]
    }
   ],
   "source": [
    "from sklearn.metrics import accuracy_score\n",
    "\n",
    "test_score = func_model.evaluate(X_test, Y_test, verbose = 2)\n",
    "print(f'Test loss: {test_score[0]:.3f}')\n",
    "print(f'Test accuracy: {test_score[1]:.3f}')"
   ]
  }
 ],
 "metadata": {
  "kernelspec": {
   "display_name": "Python 3 (ipykernel)",
   "language": "python",
   "name": "python3"
  },
  "language_info": {
   "codemirror_mode": {
    "name": "ipython",
    "version": 3
   },
   "file_extension": ".py",
   "mimetype": "text/x-python",
   "name": "python",
   "nbconvert_exporter": "python",
   "pygments_lexer": "ipython3",
   "version": "3.10.12"
  }
 },
 "nbformat": 4,
 "nbformat_minor": 5
}
