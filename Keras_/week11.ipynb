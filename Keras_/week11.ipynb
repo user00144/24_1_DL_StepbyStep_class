{
 "cells": [
  {
   "cell_type": "code",
   "execution_count": 3,
   "id": "37c26803-40b9-4ebb-8af4-d3e86ae80616",
   "metadata": {
    "execution": {
     "iopub.execute_input": "2024-05-13T00:24:19.740090Z",
     "iopub.status.busy": "2024-05-13T00:24:19.739193Z",
     "iopub.status.idle": "2024-05-13T00:24:19.753163Z",
     "shell.execute_reply": "2024-05-13T00:24:19.751060Z",
     "shell.execute_reply.started": "2024-05-13T00:24:19.740039Z"
    }
   },
   "outputs": [],
   "source": [
    "from tensorflow.keras.models import Sequential\n",
    "\n",
    "model = Sequential()\n",
    "\n",
    "from tensorflow.keras.layers import Dense\n",
    "\n",
    "model.add(Dense(units=64, activation='relu'))\n",
    "model.add(Dense(units=10, activation='softmax'))"
   ]
  },
  {
   "cell_type": "code",
   "execution_count": null,
   "id": "23468b63-910c-41cb-bd89-d26f29a5a798",
   "metadata": {},
   "outputs": [],
   "source": []
  }
 ],
 "metadata": {
  "kernelspec": {
   "display_name": "Python 3 (ipykernel)",
   "language": "python",
   "name": "python3"
  },
  "language_info": {
   "codemirror_mode": {
    "name": "ipython",
    "version": 3
   },
   "file_extension": ".py",
   "mimetype": "text/x-python",
   "name": "python",
   "nbconvert_exporter": "python",
   "pygments_lexer": "ipython3",
   "version": "3.10.12"
  }
 },
 "nbformat": 4,
 "nbformat_minor": 5
}
