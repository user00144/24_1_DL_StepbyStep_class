{
 "cells": [
  {
   "cell_type": "code",
   "execution_count": null,
   "id": "37fb90aa-9add-446d-b5fe-4cf51a7e582a",
   "metadata": {},
   "outputs": [],
   "source": [
    "import numpy as np\n",
    "\n",
    "def predict (X,W,b):\n",
    "    return X.dot(W)+b\n",
    "\n",
    "def get_gradient(X, error) :\n",
    "    return X.T.dot(error), np.sum(error)\n",
    "    \n",
    "def update(W, b, gradient, learning_rate) :\n",
    "    W = W - learning_rate * gradient[0]\n",
    "    b = b- learning_rate * gradient[1]\n",
    "    return W, b\n",
    "\n",
    "def cost(error) :\n",
    "    return np.mean(error**2)\n",
    "\n",
    "def sample(s_size, w0, b0) :\n",
    "    x = np.random.randn(s_size, 2)\n",
    "    y = predict(x, w0, b0)\n",
    "    noise = np.random.randn(s_size, 1)\n",
    "    y = y+noise\n",
    "    return (x,y)\n",
    "\n"
   ]
  }
 ],
 "metadata": {
  "kernelspec": {
   "display_name": "Python 3 (ipykernel)",
   "language": "python",
   "name": "python3"
  },
  "language_info": {
   "codemirror_mode": {
    "name": "ipython",
    "version": 3
   },
   "file_extension": ".py",
   "mimetype": "text/x-python",
   "name": "python",
   "nbconvert_exporter": "python",
   "pygments_lexer": "ipython3",
   "version": "3.10.12"
  }
 },
 "nbformat": 4,
 "nbformat_minor": 5
}
