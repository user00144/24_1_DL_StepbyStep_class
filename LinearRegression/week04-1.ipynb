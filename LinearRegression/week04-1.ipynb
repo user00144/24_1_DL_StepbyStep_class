{
 "cells": [
  {
   "cell_type": "code",
   "execution_count": 13,
   "id": "cbbb9093",
   "metadata": {},
   "outputs": [],
   "source": [
    "import numpy as np\n",
    "\n",
    "input_data = np.array([[3,5],[1,-1],[0,0],[8,4]])"
   ]
  },
  {
   "cell_type": "code",
   "execution_count": 14,
   "id": "d6bf9573",
   "metadata": {},
   "outputs": [],
   "source": [
    "w_h = np.array([[2,4],[3,-5]])\n",
    "w_h1 = np.array([[-1,2],[1,2]])\n",
    "w_o = np.array([[2],[7]])\n",
    "\n",
    "W = [w_h,w_h1, w_o]"
   ]
  },
  {
   "cell_type": "code",
   "execution_count": 17,
   "id": "666afec6",
   "metadata": {},
   "outputs": [],
   "source": [
    "def predict(X,W) :\n",
    "    h0 = X.dot(W[0])\n",
    "    h1 = h0.dot(W[1])\n",
    "    yp = h1.dot(W[2])\n",
    "    return yp\n",
    "\n",
    "out = predict(input_data, W)"
   ]
  },
  {
   "cell_type": "code",
   "execution_count": 18,
   "id": "f44c132f",
   "metadata": {},
   "outputs": [
    {
     "data": {
      "text/plain": [
       "array([[ 44],\n",
       "       [132],\n",
       "       [  0],\n",
       "       [528]])"
      ]
     },
     "execution_count": 18,
     "metadata": {},
     "output_type": "execute_result"
    }
   ],
   "source": [
    "out"
   ]
  }
 ],
 "metadata": {
  "kernelspec": {
   "display_name": "Python 3 (ipykernel)",
   "language": "python",
   "name": "python3"
  },
  "language_info": {
   "codemirror_mode": {
    "name": "ipython",
    "version": 3
   },
   "file_extension": ".py",
   "mimetype": "text/x-python",
   "name": "python",
   "nbconvert_exporter": "python",
   "pygments_lexer": "ipython3",
   "version": "3.10.12"
  }
 },
 "nbformat": 4,
 "nbformat_minor": 5
}
