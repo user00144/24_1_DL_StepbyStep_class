{
 "cells": [
  {
   "cell_type": "code",
   "execution_count": 3,
   "id": "8079bac3",
   "metadata": {},
   "outputs": [
    {
     "name": "stdout",
     "output_type": "stream",
     "text": [
      "21,-13\n",
      "-49\n"
     ]
    }
   ],
   "source": [
    "import numpy as np\n",
    "\n",
    "input_data = np.array([3,5])\n",
    "\n",
    "weight_hidden_0 = np.array([2,3])\n",
    "weight_hidden_1 = np.array([4,-5])\n",
    "weight_output = np.array([2,7])\n",
    "\n",
    "hidden_0_value = (input_data * weight_hidden_0).sum()\n",
    "hidden_1_value = (input_data * weight_hidden_1).sum()\n",
    "\n",
    "print(hidden_0_value, hidden_1_value, sep=',')\n",
    "\n",
    "output = hidden_0_value * weight_output[0] + hidden_1_value * weight_output[1]\n",
    "\n",
    "print(output)"
   ]
  }
 ],
 "metadata": {
  "kernelspec": {
   "display_name": "Python 3 (ipykernel)",
   "language": "python",
   "name": "python3"
  },
  "language_info": {
   "codemirror_mode": {
    "name": "ipython",
    "version": 3
   },
   "file_extension": ".py",
   "mimetype": "text/x-python",
   "name": "python",
   "nbconvert_exporter": "python",
   "pygments_lexer": "ipython3",
   "version": "3.10.12"
  }
 },
 "nbformat": 4,
 "nbformat_minor": 5
}
