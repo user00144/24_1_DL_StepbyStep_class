{
 "cells": [
  {
   "cell_type": "code",
   "execution_count": 1,
   "id": "0473561e-8f06-4baf-95d7-63c499f4e353",
   "metadata": {
    "execution": {
     "iopub.execute_input": "2024-04-08T02:03:31.771852Z",
     "iopub.status.busy": "2024-04-08T02:03:31.771667Z",
     "iopub.status.idle": "2024-04-08T02:03:32.018747Z",
     "shell.execute_reply": "2024-04-08T02:03:32.018061Z",
     "shell.execute_reply.started": "2024-04-08T02:03:31.771843Z"
    }
   },
   "outputs": [],
   "source": [
    "from sklearn.datasets import load_diabetes\n",
    "from sklearn.model_selection import train_test_split\n",
    "from sklearn.metrics import r2_score\n",
    "import numpy as np\n",
    "import random\n",
    "\n",
    "#시드 고정\n",
    "SEED = 42\n",
    "random.seed = SEED\n",
    "np.random.seed = SEED\n",
    "\n",
    "#1 sklearn diabetes 자료 로드\n",
    "diabetes = load_diabetes()\n",
    "X_data = diabetes.data\n",
    "y_data = diabetes.target"
   ]
  },
  {
   "cell_type": "code",
   "execution_count": 2,
   "id": "e7cb515a-aef3-48ef-8cee-85ae85185bcb",
   "metadata": {
    "execution": {
     "iopub.execute_input": "2024-04-08T02:03:32.019331Z",
     "iopub.status.busy": "2024-04-08T02:03:32.019214Z",
     "iopub.status.idle": "2024-04-08T02:03:32.021981Z",
     "shell.execute_reply": "2024-04-08T02:03:32.021710Z",
     "shell.execute_reply.started": "2024-04-08T02:03:32.019324Z"
    }
   },
   "outputs": [
    {
     "name": "stdout",
     "output_type": "stream",
     "text": [
      "(353, 10) (353,)\n",
      "(89, 10) (89,)\n"
     ]
    }
   ],
   "source": [
    "#2. train_test_split()\n",
    "\n",
    "X_train, X_test, y_train, y_test = train_test_split(diabetes.data, diabetes.target, test_size = 0.2, random_state = SEED)\n",
    "print(X_train.shape, y_train.shape)\n",
    "print(X_test.shape, y_test.shape)"
   ]
  },
  {
   "cell_type": "code",
   "execution_count": 3,
   "id": "051d7bdb-13fc-4baf-a376-ccfc71d634f5",
   "metadata": {
    "execution": {
     "iopub.execute_input": "2024-04-08T02:03:32.022431Z",
     "iopub.status.busy": "2024-04-08T02:03:32.022304Z",
     "iopub.status.idle": "2024-04-08T02:03:32.040735Z",
     "shell.execute_reply": "2024-04-08T02:03:32.040225Z",
     "shell.execute_reply.started": "2024-04-08T02:03:32.022424Z"
    }
   },
   "outputs": [
    {
     "name": "stdout",
     "output_type": "stream",
     "text": [
      "Linear Regression (sklearn) r2_score for Train Data : 0.5279193863361498\n",
      "Linear Regression (sklearn) r2_score for Test Data : 0.4526027629719195\n"
     ]
    }
   ],
   "source": [
    "from sklearn.linear_model import LinearRegression\n",
    "\n",
    "#3. sklearn LinearRegression\n",
    "lr = LinearRegression()\n",
    "\n",
    "lr.fit(X_train, y_train)\n",
    "\n",
    "pred_train_sklearn = lr.predict(X_train)\n",
    "score_train_sklearn = r2_score(y_train, pred_train_sklearn)\n",
    "pred_test_sklearn = lr.predict(X_test)\n",
    "score_test_sklearn = r2_score(y_test, pred_test_sklearn)\n",
    "\n",
    "print(f\"Linear Regression (sklearn) r2_score for Train Data : {score_train_sklearn}\")\n",
    "print(f\"Linear Regression (sklearn) r2_score for Test Data : {score_test_sklearn}\")"
   ]
  },
  {
   "cell_type": "code",
   "execution_count": 4,
   "id": "e6f6df3d-a03f-4745-9e3b-61ba80c3575e",
   "metadata": {
    "execution": {
     "iopub.execute_input": "2024-04-08T02:03:32.041162Z",
     "iopub.status.busy": "2024-04-08T02:03:32.041048Z",
     "iopub.status.idle": "2024-04-08T02:03:32.042935Z",
     "shell.execute_reply": "2024-04-08T02:03:32.042595Z",
     "shell.execute_reply.started": "2024-04-08T02:03:32.041155Z"
    }
   },
   "outputs": [],
   "source": [
    "#hypterparameter\n",
    "learning_rate = 0.005\n",
    "epoch = 1000\n",
    "\n",
    "#random weight(10,1)\n",
    "weight = np.random.rand(10,1)\n",
    "bias = 10"
   ]
  },
  {
   "cell_type": "code",
   "execution_count": 5,
   "id": "0e5edf0c-2c7e-4c88-84ee-6df438e9e412",
   "metadata": {
    "execution": {
     "iopub.execute_input": "2024-04-08T02:03:32.043302Z",
     "iopub.status.busy": "2024-04-08T02:03:32.043224Z",
     "iopub.status.idle": "2024-04-08T02:03:32.055774Z",
     "shell.execute_reply": "2024-04-08T02:03:32.055303Z",
     "shell.execute_reply.started": "2024-04-08T02:03:32.043295Z"
    }
   },
   "outputs": [],
   "source": [
    "def predict (X,W,b):\n",
    "    return X.dot(W)+b\n",
    "\n",
    "def get_gradient(X, error) :\n",
    "    return X.T.dot(error), np.sum(error)\n",
    "\n",
    "def get_error(y_pred, y_true) :\n",
    "    return y_pred - y_true.reshape(353,1)\n",
    "\n",
    "def update(W, b, gradient, learning_rate) :\n",
    "    W = W - learning_rate * gradient[0]\n",
    "    b = b - learning_rate * gradient[1]\n",
    "    return W, b"
   ]
  },
  {
   "cell_type": "code",
   "execution_count": 6,
   "id": "7f723e2c-90a3-4130-bc2f-3b9091ecd78e",
   "metadata": {
    "execution": {
     "iopub.execute_input": "2024-04-08T02:03:32.056557Z",
     "iopub.status.busy": "2024-04-08T02:03:32.056470Z",
     "iopub.status.idle": "2024-04-08T02:03:32.146893Z",
     "shell.execute_reply": "2024-04-08T02:03:32.146563Z",
     "shell.execute_reply.started": "2024-04-08T02:03:32.056550Z"
    }
   },
   "outputs": [
    {
     "name": "stdout",
     "output_type": "stream",
     "text": [
      "\n",
      " <<Train>>\n",
      "\n",
      "r2_score at epoch 49 : 0.3183\n",
      "r2_score at epoch 99 : 0.4184\n",
      "r2_score at epoch 149 : 0.4602\n",
      "r2_score at epoch 199 : 0.4826\n",
      "r2_score at epoch 249 : 0.4962\n",
      "r2_score at epoch 299 : 0.5049\n",
      "r2_score at epoch 349 : 0.5107\n",
      "r2_score at epoch 399 : 0.5145\n",
      "r2_score at epoch 449 : 0.5170\n",
      "r2_score at epoch 499 : 0.5188\n",
      "r2_score at epoch 549 : 0.5200\n",
      "r2_score at epoch 599 : 0.5209\n",
      "r2_score at epoch 649 : 0.5215\n",
      "r2_score at epoch 699 : 0.5219\n",
      "r2_score at epoch 749 : 0.5222\n",
      "r2_score at epoch 799 : 0.5224\n",
      "r2_score at epoch 849 : 0.5226\n",
      "r2_score at epoch 899 : 0.5227\n",
      "r2_score at epoch 949 : 0.5228\n",
      "r2_score at epoch 999 : 0.5229\n",
      "\n",
      " <<Train Done>>\n",
      "\n"
     ]
    }
   ],
   "source": [
    "#4. train / 1000epochs\n",
    "print(\"\\n <<Train>>\\n\")\n",
    "for i in range(epoch) :\n",
    "    pred = predict(X_train, weight, bias)\n",
    "    error = get_error(pred, y_train)\n",
    "    r2_my = r2_score(y_train, pred)\n",
    "    gradient = get_gradient(X_train, error)\n",
    "    weight, bias = update(weight, bias , gradient, learning_rate)\n",
    "    if (i+1) % 50 == 0 :\n",
    "        print(f\"r2_score at epoch {i} : {r2_my:.4f}\")\n",
    "print(\"\\n <<Train Done>>\\n\")"
   ]
  },
  {
   "cell_type": "code",
   "execution_count": 7,
   "id": "e2a489bb-b7f3-433c-9d04-10f555675390",
   "metadata": {
    "execution": {
     "iopub.execute_input": "2024-04-08T02:03:32.147280Z",
     "iopub.status.busy": "2024-04-08T02:03:32.147198Z",
     "iopub.status.idle": "2024-04-08T02:03:32.149887Z",
     "shell.execute_reply": "2024-04-08T02:03:32.149643Z",
     "shell.execute_reply.started": "2024-04-08T02:03:32.147273Z"
    }
   },
   "outputs": [
    {
     "name": "stdout",
     "output_type": "stream",
     "text": [
      "[[  39.60921493]\n",
      " [-234.00730958]\n",
      " [ 546.50789945]\n",
      " [ 339.12614624]\n",
      " [ -93.55388394]\n",
      " [-128.40474806]\n",
      " [-217.28467092]\n",
      " [ 147.48851074]\n",
      " [ 406.47923626]\n",
      " [  77.68739712]]\n"
     ]
    }
   ],
   "source": [
    "print(weight)"
   ]
  },
  {
   "cell_type": "code",
   "execution_count": 8,
   "id": "64ca35a9-6040-475d-8e1c-12de5b5ad4b6",
   "metadata": {
    "execution": {
     "iopub.execute_input": "2024-04-08T02:03:32.150272Z",
     "iopub.status.busy": "2024-04-08T02:03:32.150173Z",
     "iopub.status.idle": "2024-04-08T02:03:32.155217Z",
     "shell.execute_reply": "2024-04-08T02:03:32.155007Z",
     "shell.execute_reply.started": "2024-04-08T02:03:32.150265Z"
    }
   },
   "outputs": [
    {
     "name": "stdout",
     "output_type": "stream",
     "text": [
      "151.30686582816992\n"
     ]
    }
   ],
   "source": [
    "print(bias)"
   ]
  },
  {
   "cell_type": "code",
   "execution_count": 9,
   "id": "78f1db0d-f495-4c7c-b43e-1d0db22822cc",
   "metadata": {
    "execution": {
     "iopub.execute_input": "2024-04-08T02:03:32.155565Z",
     "iopub.status.busy": "2024-04-08T02:03:32.155487Z",
     "iopub.status.idle": "2024-04-08T02:03:32.160653Z",
     "shell.execute_reply": "2024-04-08T02:03:32.160277Z",
     "shell.execute_reply.started": "2024-04-08T02:03:32.155559Z"
    }
   },
   "outputs": [
    {
     "name": "stdout",
     "output_type": "stream",
     "text": [
      "Linear Regression (my) MSE for Test Data : 0.4567291872463044\n"
     ]
    }
   ],
   "source": [
    "#4. Test / my model\n",
    "pred_my = predict(X_test, weight, bias)\n",
    "r2_test_my = r2_score(y_test, pred_my)\n",
    "\n",
    "\n",
    "print(f\"Linear Regression (my) MSE for Test Data : {r2_test_my}\")"
   ]
  },
  {
   "cell_type": "code",
   "execution_count": 10,
   "id": "350c81dd-8b94-4139-920f-58f5eddc2e3c",
   "metadata": {
    "execution": {
     "iopub.execute_input": "2024-04-08T02:03:32.161040Z",
     "iopub.status.busy": "2024-04-08T02:03:32.160939Z",
     "iopub.status.idle": "2024-04-08T02:03:32.165583Z",
     "shell.execute_reply": "2024-04-08T02:03:32.165273Z",
     "shell.execute_reply.started": "2024-04-08T02:03:32.161034Z"
    }
   },
   "outputs": [
    {
     "name": "stdout",
     "output_type": "stream",
     "text": [
      "Linear Regression (my) r2_score for Test Data : 0.4567291872463044\n",
      "Linear Regression (sklearn) r2_score for Test Data : 0.4526027629719195\n"
     ]
    }
   ],
   "source": [
    "#5. 비교\n",
    "\n",
    "print(f\"Linear Regression (my) r2_score for Test Data : {r2_test_my}\")\n",
    "print(f\"Linear Regression (sklearn) r2_score for Test Data : {score_test_sklearn}\")"
   ]
  }
 ],
 "metadata": {
  "kernelspec": {
   "display_name": "Python 3 (ipykernel)",
   "language": "python",
   "name": "python3"
  },
  "language_info": {
   "codemirror_mode": {
    "name": "ipython",
    "version": 3
   },
   "file_extension": ".py",
   "mimetype": "text/x-python",
   "name": "python",
   "nbconvert_exporter": "python",
   "pygments_lexer": "ipython3",
   "version": "3.10.12"
  }
 },
 "nbformat": 4,
 "nbformat_minor": 5
}
