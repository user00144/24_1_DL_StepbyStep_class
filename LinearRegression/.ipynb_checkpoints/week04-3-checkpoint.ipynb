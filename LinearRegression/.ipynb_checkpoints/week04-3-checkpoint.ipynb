{
 "cells": [
  {
   "cell_type": "code",
   "execution_count": 1,
   "id": "600385d0",
   "metadata": {},
   "outputs": [],
   "source": [
    "#slope , gradient descent 개념이해\n",
    "import numpy as np\n",
    "\n",
    "input_data = np.array([3,5])\n",
    "weight = np.array([[2],[7]])\n",
    "target = 30"
   ]
  },
  {
   "cell_type": "code",
   "execution_count": 2,
   "id": "669b1d83",
   "metadata": {},
   "outputs": [],
   "source": [
    "learning_rate = 0.01"
   ]
  },
  {
   "cell_type": "code",
   "execution_count": 5,
   "id": "4c2efa5d",
   "metadata": {},
   "outputs": [],
   "source": [
    "def predict (X,W):\n",
    "    return X.dot(W)\n",
    "\n",
    "def get_slope(X, error) :\n",
    "    return 2* X.reshape(-1,1) * error\n",
    "\n",
    "def update(W, slope, learning_rate) :\n",
    "    W = W - learning_rate * slope\n",
    "    return W"
   ]
  },
  {
   "cell_type": "code",
   "execution_count": 6,
   "id": "70cd3dae",
   "metadata": {},
   "outputs": [
    {
     "name": "stdout",
     "output_type": "stream",
     "text": [
      "prediction :  [41]\n",
      "slope :  [[ 66]\n",
      " [110]]\n",
      "new weight :  [[1.34]\n",
      " [5.9 ]]\n"
     ]
    }
   ],
   "source": [
    "pred = predict(input_data, weight)\n",
    "print('prediction : ', pred)\n",
    "\n",
    "slope = get_slope(input_data, pred-target)\n",
    "print('slope : ', slope)\n",
    "\n",
    "weight = update(weight, slope, learning_rate)\n",
    "print('new weight : ', weight)"
   ]
  }
 ],
 "metadata": {
  "kernelspec": {
   "display_name": "Python 3 (ipykernel)",
   "language": "python",
   "name": "python3"
  },
  "language_info": {
   "codemirror_mode": {
    "name": "ipython",
    "version": 3
   },
   "file_extension": ".py",
   "mimetype": "text/x-python",
   "name": "python",
   "nbconvert_exporter": "python",
   "pygments_lexer": "ipython3",
   "version": "3.10.12"
  }
 },
 "nbformat": 4,
 "nbformat_minor": 5
}
