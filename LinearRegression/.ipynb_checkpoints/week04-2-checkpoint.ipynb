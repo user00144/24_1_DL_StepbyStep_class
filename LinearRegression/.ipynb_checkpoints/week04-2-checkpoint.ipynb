{
 "cells": [
  {
   "cell_type": "code",
   "execution_count": 1,
   "id": "fe54f0e6",
   "metadata": {},
   "outputs": [],
   "source": [
    "#slope , gradient descent 개념이해\n",
    "import numpy as np\n",
    "\n",
    "input_data = 3\n",
    "weight = 2\n",
    "target = 10"
   ]
  },
  {
   "cell_type": "code",
   "execution_count": 2,
   "id": "43d7128e",
   "metadata": {},
   "outputs": [],
   "source": [
    "learning_rate = 0.01"
   ]
  },
  {
   "cell_type": "code",
   "execution_count": 3,
   "id": "5dc2ecff",
   "metadata": {},
   "outputs": [],
   "source": [
    "pred = weight * input_data"
   ]
  },
  {
   "cell_type": "code",
   "execution_count": 5,
   "id": "1f430a6d",
   "metadata": {},
   "outputs": [
    {
     "name": "stdout",
     "output_type": "stream",
     "text": [
      "mse :  16\n",
      "slope :  -24\n",
      "step :  -0.24\n",
      "new weight :  2.24\n",
      "new_pred :  6.720000000000001\n",
      "new_error :  -3.2799999999999994\n"
     ]
    }
   ],
   "source": [
    "error = pred - target\n",
    "mse = error * error\n",
    "print('mse : ',mse)\n",
    "\n",
    "slope = 2 * error * input_data\n",
    "print('slope : ',slope)\n",
    "\n",
    "step = learning_rate * slope\n",
    "print('step : ', step)\n",
    "\n",
    "new_weight = weight - step\n",
    "print('new weight : ',new_weight)\n",
    "\n",
    "new_pred = new_weight * input_data\n",
    "print('new_pred : ', new_pred)\n",
    "\n",
    "new_error = new_pred - target\n",
    "print('new_error : ', new_error)"
   ]
  }
 ],
 "metadata": {
  "kernelspec": {
   "display_name": "Python 3 (ipykernel)",
   "language": "python",
   "name": "python3"
  },
  "language_info": {
   "codemirror_mode": {
    "name": "ipython",
    "version": 3
   },
   "file_extension": ".py",
   "mimetype": "text/x-python",
   "name": "python",
   "nbconvert_exporter": "python",
   "pygments_lexer": "ipython3",
   "version": "3.10.12"
  }
 },
 "nbformat": 4,
 "nbformat_minor": 5
}
