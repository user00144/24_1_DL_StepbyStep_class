{
 "cells": [
  {
   "cell_type": "code",
   "execution_count": 2,
   "id": "ac72d6c4",
   "metadata": {},
   "outputs": [],
   "source": [
    "import numpy as np\n",
    "\n",
    "input_data = np.array([[3,5],[1,-1],[0,0],[8,4]])"
   ]
  },
  {
   "cell_type": "code",
   "execution_count": 4,
   "id": "1a755855",
   "metadata": {},
   "outputs": [],
   "source": [
    "w_h = np.array([[2,4],[3,-5]])\n",
    "w_o = np.array([[2],[7]])\n",
    "\n",
    "W = [w_h, w_o]"
   ]
  },
  {
   "cell_type": "code",
   "execution_count": 11,
   "id": "849a9543",
   "metadata": {},
   "outputs": [],
   "source": [
    "def predict(X,W) :\n",
    "    h0 = X.dot(W[0])\n",
    "    yp = h0.dot(W[1])\n",
    "    return yp\n",
    "\n",
    "out = predict(input_data, W)"
   ]
  },
  {
   "cell_type": "code",
   "execution_count": 12,
   "id": "b314a168",
   "metadata": {},
   "outputs": [
    {
     "data": {
      "text/plain": [
       "array([[-49],\n",
       "       [ 61],\n",
       "       [  0],\n",
       "       [140]])"
      ]
     },
     "execution_count": 12,
     "metadata": {},
     "output_type": "execute_result"
    }
   ],
   "source": [
    "out"
   ]
  }
 ],
 "metadata": {
  "kernelspec": {
   "display_name": "Python 3 (ipykernel)",
   "language": "python",
   "name": "python3"
  },
  "language_info": {
   "codemirror_mode": {
    "name": "ipython",
    "version": 3
   },
   "file_extension": ".py",
   "mimetype": "text/x-python",
   "name": "python",
   "nbconvert_exporter": "python",
   "pygments_lexer": "ipython3",
   "version": "3.10.12"
  }
 },
 "nbformat": 4,
 "nbformat_minor": 5
}
