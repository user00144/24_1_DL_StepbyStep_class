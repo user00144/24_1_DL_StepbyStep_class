{
 "cells": [
  {
   "cell_type": "code",
   "execution_count": 1,
   "id": "0473561e-8f06-4baf-95d7-63c499f4e353",
   "metadata": {
    "execution": {
     "iopub.execute_input": "2024-04-08T01:59:00.334039Z",
     "iopub.status.busy": "2024-04-08T01:59:00.333448Z",
     "iopub.status.idle": "2024-04-08T01:59:00.597090Z",
     "shell.execute_reply": "2024-04-08T01:59:00.596117Z",
     "shell.execute_reply.started": "2024-04-08T01:59:00.333993Z"
    }
   },
   "outputs": [],
   "source": [
    "from sklearn.datasets import load_diabetes\n",
    "from sklearn.model_selection import train_test_split\n",
    "from sklearn.metrics import r2_score\n",
    "import numpy as np\n",
    "import random\n",
    "\n",
    "#시드 고정\n",
    "SEED = 42\n",
    "random.seed = SEED\n",
    "np.random.seed = SEED\n",
    "\n",
    "#1 sklearn diabetes 자료 로드\n",
    "diabetes = load_diabetes()\n",
    "X_data = diabetes.data\n",
    "y_data = diabetes.target"
   ]
  },
  {
   "cell_type": "code",
   "execution_count": 2,
   "id": "e7cb515a-aef3-48ef-8cee-85ae85185bcb",
   "metadata": {
    "execution": {
     "iopub.execute_input": "2024-04-08T01:59:02.023104Z",
     "iopub.status.busy": "2024-04-08T01:59:02.022265Z",
     "iopub.status.idle": "2024-04-08T01:59:02.028938Z",
     "shell.execute_reply": "2024-04-08T01:59:02.028602Z",
     "shell.execute_reply.started": "2024-04-08T01:59:02.023058Z"
    }
   },
   "outputs": [
    {
     "name": "stdout",
     "output_type": "stream",
     "text": [
      "(353, 10) (353,)\n",
      "(89, 10) (89,)\n"
     ]
    }
   ],
   "source": [
    "#2. train_test_split()\n",
    "\n",
    "X_train, X_test, y_train, y_test = train_test_split(diabetes.data, diabetes.target, test_size = 0.2, random_state = SEED)\n",
    "print(X_train.shape, y_train.shape)\n",
    "print(X_test.shape, y_test.shape)"
   ]
  },
  {
   "cell_type": "code",
   "execution_count": 3,
   "id": "051d7bdb-13fc-4baf-a376-ccfc71d634f5",
   "metadata": {
    "execution": {
     "iopub.execute_input": "2024-04-08T01:59:03.476211Z",
     "iopub.status.busy": "2024-04-08T01:59:03.476069Z",
     "iopub.status.idle": "2024-04-08T01:59:03.491086Z",
     "shell.execute_reply": "2024-04-08T01:59:03.490641Z",
     "shell.execute_reply.started": "2024-04-08T01:59:03.476202Z"
    }
   },
   "outputs": [
    {
     "name": "stdout",
     "output_type": "stream",
     "text": [
      "Linear Regression (sklearn) MSE for Train Data : 2868.549702835577\n",
      "Linear Regression (sklearn) MSE for Test Data : 2900.193628493482\n"
     ]
    }
   ],
   "source": [
    "from sklearn.linear_model import LinearRegression\n",
    "\n",
    "#3. sklearn LinearRegression\n",
    "lr = LinearRegression()\n",
    "\n",
    "lr.fit(X_train, y_train)\n",
    "\n",
    "pred_train_sklearn = lr.predict(X_train)\n",
    "score_train_sklearn = r2_score(y_train, pred_train_sklearn)\n",
    "pred_test_sklearn = lr.predict(X_test)\n",
    "score_test_sklearn = r2_score(y_test, pred_test_sklearn)\n",
    "\n",
    "print(f\"Linear Regression (sklearn) r2_score for Train Data : {score_train_sklearn}\")\n",
    "print(f\"Linear Regression (sklearn) r2_score for Test Data : {score_test_sklearn}\")"
   ]
  },
  {
   "cell_type": "code",
   "execution_count": 4,
   "id": "e6f6df3d-a03f-4745-9e3b-61ba80c3575e",
   "metadata": {
    "execution": {
     "iopub.execute_input": "2024-04-08T01:59:06.582452Z",
     "iopub.status.busy": "2024-04-08T01:59:06.581815Z",
     "iopub.status.idle": "2024-04-08T01:59:06.590601Z",
     "shell.execute_reply": "2024-04-08T01:59:06.588726Z",
     "shell.execute_reply.started": "2024-04-08T01:59:06.582408Z"
    }
   },
   "outputs": [],
   "source": [
    "#hypterparameter\n",
    "learning_rate = 0.0001\n",
    "epoch = 1000\n",
    "\n",
    "#random weight(10,1)\n",
    "weight = np.random.rand(10,1)\n",
    "bias = 10"
   ]
  },
  {
   "cell_type": "code",
   "execution_count": 5,
   "id": "0e5edf0c-2c7e-4c88-84ee-6df438e9e412",
   "metadata": {
    "execution": {
     "iopub.execute_input": "2024-04-08T01:59:08.701181Z",
     "iopub.status.busy": "2024-04-08T01:59:08.700565Z",
     "iopub.status.idle": "2024-04-08T01:59:08.707692Z",
     "shell.execute_reply": "2024-04-08T01:59:08.705491Z",
     "shell.execute_reply.started": "2024-04-08T01:59:08.701137Z"
    }
   },
   "outputs": [],
   "source": [
    "def predict (X,W,b):\n",
    "    return X.dot(W)+b\n",
    "\n",
    "def get_gradient(X, error) :\n",
    "    return X.T.dot(error), np.sum(error)\n",
    "\n",
    "def get_error(y_pred, y_true) :\n",
    "    return y_pred - y_true.reshape(353,1)\n",
    "\n",
    "def update(W, b, gradient, learning_rate) :\n",
    "    W = W - learning_rate * gradient[0]\n",
    "    b = b - learning_rate * gradient[1]\n",
    "    return W, b"
   ]
  },
  {
   "cell_type": "code",
   "execution_count": 6,
   "id": "7f723e2c-90a3-4130-bc2f-3b9091ecd78e",
   "metadata": {
    "execution": {
     "iopub.execute_input": "2024-04-08T01:59:10.654649Z",
     "iopub.status.busy": "2024-04-08T01:59:10.654030Z",
     "iopub.status.idle": "2024-04-08T01:59:10.738031Z",
     "shell.execute_reply": "2024-04-08T01:59:10.737666Z",
     "shell.execute_reply.started": "2024-04-08T01:59:10.654605Z"
    }
   },
   "outputs": [
    {
     "name": "stdout",
     "output_type": "stream",
     "text": [
      "\n",
      " <<Train>>\n",
      "\n",
      "MSE score at epoch 49 : 6605.8019\n",
      "MSE score at epoch 99 : 5944.7254\n",
      "MSE score at epoch 149 : 5862.8022\n",
      "MSE score at epoch 199 : 5798.5493\n",
      "MSE score at epoch 249 : 5736.4779\n",
      "MSE score at epoch 299 : 5676.1114\n",
      "MSE score at epoch 349 : 5617.3873\n",
      "MSE score at epoch 399 : 5560.2562\n",
      "MSE score at epoch 449 : 5504.6705\n",
      "MSE score at epoch 499 : 5450.5840\n",
      "MSE score at epoch 549 : 5397.9519\n",
      "MSE score at epoch 599 : 5346.7309\n",
      "MSE score at epoch 649 : 5296.8790\n",
      "MSE score at epoch 699 : 5248.3554\n",
      "MSE score at epoch 749 : 5201.1207\n",
      "MSE score at epoch 799 : 5155.1367\n",
      "MSE score at epoch 849 : 5110.3661\n",
      "MSE score at epoch 899 : 5066.7732\n",
      "MSE score at epoch 949 : 5024.3231\n",
      "MSE score at epoch 999 : 4982.9819\n",
      "\n",
      " <<Train Done>>\n",
      "\n"
     ]
    }
   ],
   "source": [
    "#4. train / 1000epochs\n",
    "print(\"\\n <<Train>>\\n\")\n",
    "for i in range(epoch) :\n",
    "    pred = predict(X_train, weight, bias)\n",
    "    error = get_error(pred, y_train)\n",
    "    r2_my = r2_score(y_train, pred)\n",
    "    gradient = get_gradient(X_train, error)\n",
    "    weight, bias = update(weight, bias , gradient, learning_rate)\n",
    "    if (i+1) % 50 == 0 :\n",
    "        print(f\"r2_score at epoch {i} : {r2_my:.4f}\")\n",
    "print(\"\\n <<Train Done>>\\n\")"
   ]
  },
  {
   "cell_type": "code",
   "execution_count": 7,
   "id": "e2a489bb-b7f3-433c-9d04-10f555675390",
   "metadata": {
    "execution": {
     "iopub.execute_input": "2024-04-08T01:59:21.271459Z",
     "iopub.status.busy": "2024-04-08T01:59:21.269782Z",
     "iopub.status.idle": "2024-04-08T01:59:21.279872Z",
     "shell.execute_reply": "2024-04-08T01:59:21.277888Z",
     "shell.execute_reply.started": "2024-04-08T01:59:21.271399Z"
    }
   },
   "outputs": [
    {
     "name": "stdout",
     "output_type": "stream",
     "text": [
      "[[ 21.82122257]\n",
      " [ -1.12407388]\n",
      " [ 71.42475227]\n",
      " [ 53.76850457]\n",
      " [ 20.15317367]\n",
      " [ 14.44784677]\n",
      " [-43.01373913]\n",
      " [ 47.25775925]\n",
      " [ 64.67015061]\n",
      " [ 44.83547706]]\n"
     ]
    }
   ],
   "source": [
    "print(weight)"
   ]
  },
  {
   "cell_type": "code",
   "execution_count": 8,
   "id": "64ca35a9-6040-475d-8e1c-12de5b5ad4b6",
   "metadata": {
    "execution": {
     "iopub.execute_input": "2024-04-08T01:59:22.926416Z",
     "iopub.status.busy": "2024-04-08T01:59:22.925807Z",
     "iopub.status.idle": "2024-04-08T01:59:22.935035Z",
     "shell.execute_reply": "2024-04-08T01:59:22.933103Z",
     "shell.execute_reply.started": "2024-04-08T01:59:22.926374Z"
    }
   },
   "outputs": [
    {
     "name": "stdout",
     "output_type": "stream",
     "text": [
      "153.32740930713132\n"
     ]
    }
   ],
   "source": [
    "print(bias)"
   ]
  },
  {
   "cell_type": "code",
   "execution_count": 9,
   "id": "78f1db0d-f495-4c7c-b43e-1d0db22822cc",
   "metadata": {
    "execution": {
     "iopub.execute_input": "2024-04-08T01:59:24.695462Z",
     "iopub.status.busy": "2024-04-08T01:59:24.694841Z",
     "iopub.status.idle": "2024-04-08T01:59:24.705693Z",
     "shell.execute_reply": "2024-04-08T01:59:24.704276Z",
     "shell.execute_reply.started": "2024-04-08T01:59:24.695419Z"
    }
   },
   "outputs": [
    {
     "name": "stdout",
     "output_type": "stream",
     "text": [
      "Linear Regression (my) MSE for Test Data : 4346.829578284101\n"
     ]
    }
   ],
   "source": [
    "#4. Test / my model\n",
    "pred_my = predict(X_test, weight, bias)\n",
    "r2_test_my = r2_score(y_test, pred_my)\n",
    "\n",
    "\n",
    "print(f\"Linear Regression (my) MSE for Test Data : {r2_test_my}\")"
   ]
  },
  {
   "cell_type": "code",
   "execution_count": 11,
   "id": "350c81dd-8b94-4139-920f-58f5eddc2e3c",
   "metadata": {
    "execution": {
     "iopub.execute_input": "2024-04-08T01:59:32.887690Z",
     "iopub.status.busy": "2024-04-08T01:59:32.887087Z",
     "iopub.status.idle": "2024-04-08T01:59:32.896887Z",
     "shell.execute_reply": "2024-04-08T01:59:32.894812Z",
     "shell.execute_reply.started": "2024-04-08T01:59:32.887649Z"
    }
   },
   "outputs": [
    {
     "name": "stdout",
     "output_type": "stream",
     "text": [
      "Linear Regression (my) MSE for Test Data : 4346.829578284101\n",
      "Linear Regression (sklearn) MSE for Test Data : 2900.193628493482\n",
      "sklearn win!\n"
     ]
    }
   ],
   "source": [
    "#5. 비교\n",
    "\n",
    "print(f\"Linear Regression (my) r2_score for Test Data : {r2_test_my}\")\n",
    "print(f\"Linear Regression (sklearn) r2_score for Test Data : {score_test_sklearn}\")"
   ]
  }
 ],
 "metadata": {
  "kernelspec": {
   "display_name": "Python 3 (ipykernel)",
   "language": "python",
   "name": "python3"
  },
  "language_info": {
   "codemirror_mode": {
    "name": "ipython",
    "version": 3
   },
   "file_extension": ".py",
   "mimetype": "text/x-python",
   "name": "python",
   "nbconvert_exporter": "python",
   "pygments_lexer": "ipython3",
   "version": "3.10.12"
  }
 },
 "nbformat": 4,
 "nbformat_minor": 5
}
